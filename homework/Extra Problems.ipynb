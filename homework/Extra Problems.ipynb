{
 "cells": [
  {
   "cell_type": "markdown",
   "id": "87b3ea38",
   "metadata": {},
   "source": [
    "# Extra Problems\n",
    "## Data Analysis\n",
    "### FINM August Review \n",
    "\n",
    "Mark Hendricks\n",
    "\n",
    "hendricks@uchicago.edu\n",
    "\n",
    "Maneet Singh - TA\n",
    "\n",
    "maneetsingh@uchicago.edu"
   ]
  },
  {
   "cell_type": "markdown",
   "id": "d341824e",
   "metadata": {},
   "source": [
    "### Data\n",
    "\n",
    "#### For Part 1, Part 2 and Part 3:\n",
    "\n",
    "1. Acquire daily adjusted close prices for GOLD, SPY, and TSLA, use the time periods where we have data for all.\n",
    "2. Construct daily returns for GOLD, SPY and TSLA (use the percent change pandas method).\n",
    "\n",
    "#### For Part 4\n",
    "\n",
    "- This homework uses the file, “treasury_rates.xls”.\n",
    "- Find the data in the Github repo associated with the module, (link on Canvas.)\n",
    "- The data file contains Daily treasury rates, $y^{T}_t$, for different tenors $T = \\{1yr, 2yr, 5yr, 10yr, 30yr\\}$\n",
    "\n",
    "#### For Part 5:\n",
    "\n",
    "1. Acquire daily adjusted close prices for AAPL, C, F, MSFT, NFLX, PYPL, T, TSLA, WMT, XOM and use the time periods where we have data for all.\n",
    "2. Construct daily returns (use the percent change pandas method).\n"
   ]
  },
  {
   "cell_type": "markdown",
   "id": "abaab324",
   "metadata": {},
   "source": [
    "## 1 Graphing the Distributions\n",
    "\n",
    "\n",
    "1. Graph both return distributions (hint: use .plot.kde())\n",
    "\n",
    "\n",
    "2. From looking at the distributions, which security would we expect to be most volatile? Why?"
   ]
  },
  {
   "cell_type": "markdown",
   "id": "5441fa3b",
   "metadata": {},
   "source": [
    "## 2 Normality Tests and Analysis\n",
    "Refer to this article for this section: https://machinelearningmastery.com/a-gentle-introductionto-normality-tests-in-python/\n",
    "\n",
    "\n",
    "1. For each time series of returns graph a QQ plot and interpret it\n",
    "\n",
    "\n",
    "2. For each time series of returns run the Shapiro-Wilk test and state whether you think the distribution is normal"
   ]
  },
  {
   "cell_type": "markdown",
   "id": "9a49940e",
   "metadata": {},
   "source": [
    "## 3 Distribution Analysis\n",
    "\n",
    "\n",
    "1. Find and interpret skewness for each security\n",
    "\n",
    "\n",
    "2. Take the skewness of SPY returns. How might this number explain the old Wall St. expression ”The bull walks up the stairs, the bear jumps out the window”?\n",
    "\n",
    "\n",
    "3. Find and interpret kurtosis for each security\n",
    "\n",
    "\n",
    "4. Why might investors not like securities with return distributions that have large left tails?"
   ]
  },
  {
   "cell_type": "markdown",
   "id": "1a4eed46",
   "metadata": {},
   "source": [
    "## 4 Stationarity\n",
    "\n",
    "\n",
    "1. Conduct and interpret the Augmented Dickey Fuller Test for the y1yr timeseries and conclude whether it is a stationary process. (hint: see the stationarity jupyter notebook)\n",
    "\n",
    "\n",
    "2. Use daily differencing so that now we have $\\Delta y^{1yr}$. Is this a stationary process?\n",
    "\n",
    "\n",
    "3. Why might differencing make more sense than detrending in this case?"
   ]
  },
  {
   "cell_type": "markdown",
   "id": "183e8605",
   "metadata": {},
   "source": [
    "## 5 Forward Step Regression\n",
    "\n",
    "\n",
    "Let’s try to explain the variation in TSLA’s daily returns from January 2016 to June 2021 using the other securities we have gotten data for. \n",
    "However, we decide we want to assume we traded no more than 5 of these securities to replicate.\n",
    "Consequently, let’s use Forward Step Regression (FSR) to determine which combination of regressors will lead to our best replication model given this condition.\n",
    "\n",
    "    - We have the following final regression model, where i represents when we select a security as a final factor:\n",
    "$$\n",
    "r^{TSLA}_t = \\alpha + \\sum^{5}_{i=1}\\beta^ir^i_t\n",
    "$$\n",
    "\n",
    "    - We can have no more than 5 coefficients\n",
    "    - We use data from January 2016 to June 2021\n",
    "    - Recursively select coefficients based off of R2 (e.g. our first factor is from the univariate regression with the highest R2)\n",
    "\n",
    "\n",
    "1. Build an algorithm to select our final 5 factor model and report the coefficients\n",
    "\n",
    "\n",
    "2. What security is most correlated to TSLA? Can we know this from our final model?\n",
    "\n",
    "\n",
    "3. Report $R^2$ of the final model\n",
    "\n",
    "\n",
    "4. What may be some potential complications of this model?"
   ]
  }
 ],
 "metadata": {
  "kernelspec": {
   "display_name": "Python 3 (ipykernel)",
   "language": "python",
   "name": "python3"
  },
  "language_info": {
   "codemirror_mode": {
    "name": "ipython",
    "version": 3
   },
   "file_extension": ".py",
   "mimetype": "text/x-python",
   "name": "python",
   "nbconvert_exporter": "python",
   "pygments_lexer": "ipython3",
   "version": "3.8.8"
  }
 },
 "nbformat": 4,
 "nbformat_minor": 5
}
