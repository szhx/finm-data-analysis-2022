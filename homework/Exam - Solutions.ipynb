{
 "cells": [
  {
   "cell_type": "markdown",
   "id": "bbd519a2",
   "metadata": {},
   "source": [
    "# Exam - Solutions\n",
    "## Data Analysis\n",
    "### FINM August Review \n",
    "\n",
    "Mark Hendricks\n",
    "\n",
    "hendricks@uchicago.edu\n",
    "\n",
    "Maneet Singh - TA\n",
    "\n",
    "maneetsingh@uchicago.edu"
   ]
  },
  {
   "cell_type": "markdown",
   "id": "7344a6a3",
   "metadata": {},
   "source": [
    "### Data\n",
    "\n",
    "#### For Part 1 and Part 2:\n",
    "\n",
    "This assignment uses data from Yahoo Finance (See the ”Demo Regression” file). Use one of the following methods to extract the required data:\n",
    "\n",
    "- yfinance: https://pypi.org/project/yfinance/\n",
    "- pandas-datareader: https://pandas-datareader.readthedocs.io/en/latest/\n",
    "\n",
    "\n",
    "#### For Part 3 and Part 4:\n",
    "\n",
    "- This homework uses the file, “treasury_rates.xls”.\n",
    "- Find the data in the Github repo associated with the module, (link on Canvas.)\n",
    "- The data file contains Daily treasury rates, $y^{T}_t$, for different tenors $T = \\{1yr, 2yr, 5yr, 10yr, 30yr\\}$"
   ]
  },
  {
   "cell_type": "markdown",
   "id": "df20979b",
   "metadata": {},
   "source": [
    "## 1  Data and Constructing Returns\n",
    "\n",
    "1. Acquire daily adjusted close prices for GOLD, SPY, and TSLA, use the time periods where we have data for all.\n",
    "\n",
    "\n",
    "2. Construct daily returns for GOLD, SPY and TSLA (use the percent change pandas method)."
   ]
  },
  {
   "cell_type": "code",
   "execution_count": 1,
   "id": "4c179a32",
   "metadata": {},
   "outputs": [],
   "source": [
    "import pandas as pd\n",
    "import numpy as np\n",
    "import yfinance as yf\n",
    "import statsmodels.api as sm\n",
    "from sklearn.linear_model import LinearRegression\n",
    "from sklearn.linear_model import Lasso\n",
    "\n",
    "from arch import arch_model\n",
    "from arch.univariate import GARCH, EWMAVariance\n",
    "\n",
    "import matplotlib.pyplot as plt\n",
    "import seaborn as sns\n",
    "sns.set(font_scale = 1.2, rc={'figure.figsize':(12,8)})\n",
    "import warnings\n",
    "warnings.filterwarnings('ignore')"
   ]
  },
  {
   "cell_type": "markdown",
   "id": "72c54aa3",
   "metadata": {},
   "source": [
    "###### 1."
   ]
  },
  {
   "cell_type": "code",
   "execution_count": 2,
   "id": "2575fd25",
   "metadata": {},
   "outputs": [
    {
     "name": "stdout",
     "output_type": "stream",
     "text": [
      "[*********************100%***********************]  3 of 3 completed\n"
     ]
    }
   ],
   "source": [
    "data = yf.download('GOLD SPY TSLA')['Adj Close'].dropna()"
   ]
  },
  {
   "cell_type": "code",
   "execution_count": 3,
   "id": "f1be080a",
   "metadata": {},
   "outputs": [
    {
     "data": {
      "text/html": [
       "<div>\n",
       "<style scoped>\n",
       "    .dataframe tbody tr th:only-of-type {\n",
       "        vertical-align: middle;\n",
       "    }\n",
       "\n",
       "    .dataframe tbody tr th {\n",
       "        vertical-align: top;\n",
       "    }\n",
       "\n",
       "    .dataframe thead th {\n",
       "        text-align: right;\n",
       "    }\n",
       "</style>\n",
       "<table border=\"1\" class=\"dataframe\">\n",
       "  <thead>\n",
       "    <tr style=\"text-align: right;\">\n",
       "      <th></th>\n",
       "      <th>GOLD</th>\n",
       "      <th>SPY</th>\n",
       "      <th>TSLA</th>\n",
       "    </tr>\n",
       "    <tr>\n",
       "      <th>Date</th>\n",
       "      <th></th>\n",
       "      <th></th>\n",
       "      <th></th>\n",
       "    </tr>\n",
       "  </thead>\n",
       "  <tbody>\n",
       "    <tr>\n",
       "      <th>2010-06-29</th>\n",
       "      <td>37.463127</td>\n",
       "      <td>82.774994</td>\n",
       "      <td>1.592667</td>\n",
       "    </tr>\n",
       "    <tr>\n",
       "      <th>2010-06-30</th>\n",
       "      <td>37.804447</td>\n",
       "      <td>81.988640</td>\n",
       "      <td>1.588667</td>\n",
       "    </tr>\n",
       "    <tr>\n",
       "      <th>2010-07-01</th>\n",
       "      <td>35.881351</td>\n",
       "      <td>81.623222</td>\n",
       "      <td>1.464000</td>\n",
       "    </tr>\n",
       "    <tr>\n",
       "      <th>2010-07-02</th>\n",
       "      <td>35.997902</td>\n",
       "      <td>81.178436</td>\n",
       "      <td>1.280000</td>\n",
       "    </tr>\n",
       "    <tr>\n",
       "      <th>2010-07-06</th>\n",
       "      <td>35.781445</td>\n",
       "      <td>81.710625</td>\n",
       "      <td>1.074000</td>\n",
       "    </tr>\n",
       "  </tbody>\n",
       "</table>\n",
       "</div>"
      ],
      "text/plain": [
       "                 GOLD        SPY      TSLA\n",
       "Date                                      \n",
       "2010-06-29  37.463127  82.774994  1.592667\n",
       "2010-06-30  37.804447  81.988640  1.588667\n",
       "2010-07-01  35.881351  81.623222  1.464000\n",
       "2010-07-02  35.997902  81.178436  1.280000\n",
       "2010-07-06  35.781445  81.710625  1.074000"
      ]
     },
     "metadata": {},
     "output_type": "display_data"
    }
   ],
   "source": [
    "display(data.head())"
   ]
  },
  {
   "cell_type": "markdown",
   "id": "3d53e93c",
   "metadata": {},
   "source": [
    "###### 2."
   ]
  },
  {
   "cell_type": "code",
   "execution_count": 4,
   "id": "f8c48b09",
   "metadata": {},
   "outputs": [
    {
     "data": {
      "text/html": [
       "<div>\n",
       "<style scoped>\n",
       "    .dataframe tbody tr th:only-of-type {\n",
       "        vertical-align: middle;\n",
       "    }\n",
       "\n",
       "    .dataframe tbody tr th {\n",
       "        vertical-align: top;\n",
       "    }\n",
       "\n",
       "    .dataframe thead th {\n",
       "        text-align: right;\n",
       "    }\n",
       "</style>\n",
       "<table border=\"1\" class=\"dataframe\">\n",
       "  <thead>\n",
       "    <tr style=\"text-align: right;\">\n",
       "      <th></th>\n",
       "      <th>GOLD</th>\n",
       "      <th>SPY</th>\n",
       "      <th>TSLA</th>\n",
       "    </tr>\n",
       "    <tr>\n",
       "      <th>Date</th>\n",
       "      <th></th>\n",
       "      <th></th>\n",
       "      <th></th>\n",
       "    </tr>\n",
       "  </thead>\n",
       "  <tbody>\n",
       "    <tr>\n",
       "      <th>2010-06-30</th>\n",
       "      <td>0.009111</td>\n",
       "      <td>-0.009500</td>\n",
       "      <td>-0.002511</td>\n",
       "    </tr>\n",
       "    <tr>\n",
       "      <th>2010-07-01</th>\n",
       "      <td>-0.050870</td>\n",
       "      <td>-0.004457</td>\n",
       "      <td>-0.078473</td>\n",
       "    </tr>\n",
       "    <tr>\n",
       "      <th>2010-07-02</th>\n",
       "      <td>0.003248</td>\n",
       "      <td>-0.005449</td>\n",
       "      <td>-0.125683</td>\n",
       "    </tr>\n",
       "    <tr>\n",
       "      <th>2010-07-06</th>\n",
       "      <td>-0.006013</td>\n",
       "      <td>0.006556</td>\n",
       "      <td>-0.160937</td>\n",
       "    </tr>\n",
       "    <tr>\n",
       "      <th>2010-07-07</th>\n",
       "      <td>0.020940</td>\n",
       "      <td>0.031496</td>\n",
       "      <td>-0.019243</td>\n",
       "    </tr>\n",
       "  </tbody>\n",
       "</table>\n",
       "</div>"
      ],
      "text/plain": [
       "                GOLD       SPY      TSLA\n",
       "Date                                    \n",
       "2010-06-30  0.009111 -0.009500 -0.002511\n",
       "2010-07-01 -0.050870 -0.004457 -0.078473\n",
       "2010-07-02  0.003248 -0.005449 -0.125683\n",
       "2010-07-06 -0.006013  0.006556 -0.160937\n",
       "2010-07-07  0.020940  0.031496 -0.019243"
      ]
     },
     "metadata": {},
     "output_type": "display_data"
    }
   ],
   "source": [
    "rets = data.pct_change().dropna()\n",
    "display(rets.head())"
   ]
  },
  {
   "cell_type": "markdown",
   "id": "f4b48411",
   "metadata": {},
   "source": [
    "## 2 Linear Regression\n",
    "\n",
    "1. Regress GOLD on the market (SPY) and report $\\alpha$, $\\beta$, and $R^2$\n",
    "\n",
    "\n",
    "2. If SPY were to decrease by 5% tomorrow, what would happen to GOLD and how certain of the movement in GOLD would you be?\n",
    "\n",
    "\n",
    "3. Regress GOLD on the market without an intercept and report $\\beta$ and $R^2$\n",
    "\n",
    "\n",
    "4. How does no longer including an intercept change the role of the regressor? In 2.1 what is the conceptual meaning of $\\alpha$?"
   ]
  },
  {
   "cell_type": "markdown",
   "id": "f838300d",
   "metadata": {},
   "source": [
    "###### 1."
   ]
  },
  {
   "cell_type": "code",
   "execution_count": 5,
   "id": "03d80e93",
   "metadata": {},
   "outputs": [
    {
     "name": "stdout",
     "output_type": "stream",
     "text": [
      "Model Alpha: -0.0002\n",
      "Model Beta: 0.3190\n",
      "Model R-Squared': 1.92%\n"
     ]
    }
   ],
   "source": [
    "y = rets[['GOLD']]\n",
    "X = rets[['SPY']]\n",
    "\n",
    "lm_model = LinearRegression().fit(X, y)\n",
    "print('Model Alpha: {:,.4f}'.format(lm_model.intercept_[0]))\n",
    "print('Model Beta: {:,.4f}'.format(lm_model.coef_[0][0]))\n",
    "print(\"Model R-Squared': {:,.2%}\".format(lm_model.score(X, y)))"
   ]
  },
  {
   "cell_type": "markdown",
   "id": "5467c19c",
   "metadata": {},
   "source": [
    "###### 2."
   ]
  },
  {
   "cell_type": "code",
   "execution_count": 6,
   "id": "f8e29f3f",
   "metadata": {},
   "outputs": [
    {
     "name": "stdout",
     "output_type": "stream",
     "text": [
      "We expect GOLD to move -1.611%\n"
     ]
    }
   ],
   "source": [
    "print('We expect GOLD to move ' + str(round((lm_model.intercept_[0] + lm_model.coef_[0][0] * -0.05)*100,3))+'%')"
   ]
  },
  {
   "cell_type": "markdown",
   "id": "7ec58b5a",
   "metadata": {},
   "source": [
    "We would not be certain at all of the movement in GOLD. $R^2$ is very low, these two securities have very little correlation."
   ]
  },
  {
   "cell_type": "markdown",
   "id": "1249839c",
   "metadata": {},
   "source": [
    "###### 3."
   ]
  },
  {
   "cell_type": "code",
   "execution_count": 7,
   "id": "12fb6d65",
   "metadata": {},
   "outputs": [
    {
     "name": "stdout",
     "output_type": "stream",
     "text": [
      "Model Beta without Intercept: 0.3182\n",
      "Model R-Squared without Intercept': 1.91%\n"
     ]
    }
   ],
   "source": [
    "lm_model_2 = LinearRegression(fit_intercept=False).fit(X, y)\n",
    "print('Model Beta without Intercept: {:,.4f}'.format(lm_model_2.coef_[0][0]))\n",
    "print(\"Model R-Squared without Intercept': {:,.2%}\".format(lm_model_2.score(X, y)))"
   ]
  },
  {
   "cell_type": "markdown",
   "id": "16809276",
   "metadata": {},
   "source": [
    "###### 4."
   ]
  },
  {
   "cell_type": "markdown",
   "id": "aa251541",
   "metadata": {},
   "source": [
    "Not including an intercept causes the regressor to explain the level of the regressand, not just the variation of it. In 2.1, the intercept is the GOLD return not explained by SPY in the regression."
   ]
  },
  {
   "cell_type": "markdown",
   "id": "527d71bc",
   "metadata": {},
   "source": [
    "## 3 Volatility Models\n",
    "\n",
    "\n",
    "1. Fit an Expanding Series volatility model for the $\\Delta y^{1yr}$ data that starts when $t = 40$\n",
    "\n",
    "\n",
    "2. Fit a GARCH(1,1) model for $\\Delta y^{1yr}$. When forecasting use the initial parameter $\\sigma = 0.015$\n",
    "\n",
    "\n",
    "3. Forecast and plot $\\sigma_t$ for both.\n",
    "\n",
    "\n",
    "4. Given only the volatility prediction plot, would you expect high volatility in the bond markets in 2020? What about in 2021? Which model do you think performed better when it came to predicting daily volatility?"
   ]
  },
  {
   "cell_type": "markdown",
   "id": "58c006bf",
   "metadata": {},
   "source": [
    "###### 1."
   ]
  },
  {
   "cell_type": "code",
   "execution_count": 8,
   "id": "c42c5389",
   "metadata": {},
   "outputs": [
    {
     "data": {
      "text/html": [
       "<div>\n",
       "<style scoped>\n",
       "    .dataframe tbody tr th:only-of-type {\n",
       "        vertical-align: middle;\n",
       "    }\n",
       "\n",
       "    .dataframe tbody tr th {\n",
       "        vertical-align: top;\n",
       "    }\n",
       "\n",
       "    .dataframe thead th {\n",
       "        text-align: right;\n",
       "    }\n",
       "</style>\n",
       "<table border=\"1\" class=\"dataframe\">\n",
       "  <thead>\n",
       "    <tr style=\"text-align: right;\">\n",
       "      <th></th>\n",
       "      <th>1 year</th>\n",
       "    </tr>\n",
       "    <tr>\n",
       "      <th>Date</th>\n",
       "      <th></th>\n",
       "    </tr>\n",
       "  </thead>\n",
       "  <tbody>\n",
       "    <tr>\n",
       "      <th>2016-08-24</th>\n",
       "      <td>0.01</td>\n",
       "    </tr>\n",
       "    <tr>\n",
       "      <th>2016-08-25</th>\n",
       "      <td>0.01</td>\n",
       "    </tr>\n",
       "    <tr>\n",
       "      <th>2016-08-26</th>\n",
       "      <td>0.02</td>\n",
       "    </tr>\n",
       "    <tr>\n",
       "      <th>2016-08-29</th>\n",
       "      <td>0.00</td>\n",
       "    </tr>\n",
       "    <tr>\n",
       "      <th>2016-08-30</th>\n",
       "      <td>-0.01</td>\n",
       "    </tr>\n",
       "  </tbody>\n",
       "</table>\n",
       "</div>"
      ],
      "text/plain": [
       "            1 year\n",
       "Date              \n",
       "2016-08-24    0.01\n",
       "2016-08-25    0.01\n",
       "2016-08-26    0.02\n",
       "2016-08-29    0.00\n",
       "2016-08-30   -0.01"
      ]
     },
     "execution_count": 8,
     "metadata": {},
     "output_type": "execute_result"
    }
   ],
   "source": [
    "df = pd.read_excel('treasury_rates.xls').set_index('Date').dropna()\n",
    "df.index = pd.to_datetime(df.index)\n",
    "delta_yield = df['1 year'].diff().dropna().to_frame()\n",
    "delta_yield.head()"
   ]
  },
  {
   "cell_type": "code",
   "execution_count": 9,
   "id": "86a1868c",
   "metadata": {},
   "outputs": [
    {
     "data": {
      "text/html": [
       "<div>\n",
       "<style scoped>\n",
       "    .dataframe tbody tr th:only-of-type {\n",
       "        vertical-align: middle;\n",
       "    }\n",
       "\n",
       "    .dataframe tbody tr th {\n",
       "        vertical-align: top;\n",
       "    }\n",
       "\n",
       "    .dataframe thead th {\n",
       "        text-align: right;\n",
       "    }\n",
       "</style>\n",
       "<table border=\"1\" class=\"dataframe\">\n",
       "  <thead>\n",
       "    <tr style=\"text-align: right;\">\n",
       "      <th></th>\n",
       "      <th>1 year</th>\n",
       "    </tr>\n",
       "    <tr>\n",
       "      <th>Date</th>\n",
       "      <th></th>\n",
       "    </tr>\n",
       "  </thead>\n",
       "  <tbody>\n",
       "    <tr>\n",
       "      <th>2016-10-21</th>\n",
       "      <td>0.000280</td>\n",
       "    </tr>\n",
       "    <tr>\n",
       "      <th>2016-10-24</th>\n",
       "      <td>0.000273</td>\n",
       "    </tr>\n",
       "    <tr>\n",
       "      <th>2016-10-25</th>\n",
       "      <td>0.000267</td>\n",
       "    </tr>\n",
       "    <tr>\n",
       "      <th>2016-10-26</th>\n",
       "      <td>0.000260</td>\n",
       "    </tr>\n",
       "    <tr>\n",
       "      <th>2016-10-27</th>\n",
       "      <td>0.000257</td>\n",
       "    </tr>\n",
       "  </tbody>\n",
       "</table>\n",
       "</div>"
      ],
      "text/plain": [
       "              1 year\n",
       "Date                \n",
       "2016-10-21  0.000280\n",
       "2016-10-24  0.000273\n",
       "2016-10-25  0.000267\n",
       "2016-10-26  0.000260\n",
       "2016-10-27  0.000257"
      ]
     },
     "execution_count": 9,
     "metadata": {},
     "output_type": "execute_result"
    }
   ],
   "source": [
    "var = (delta_yield.shift(1)**2).expanding(min_periods = 40).mean()\n",
    "var.dropna().head()"
   ]
  },
  {
   "cell_type": "markdown",
   "id": "55c617fc",
   "metadata": {},
   "source": [
    "###### 2."
   ]
  },
  {
   "cell_type": "code",
   "execution_count": 10,
   "id": "a6c58a48",
   "metadata": {},
   "outputs": [
    {
     "name": "stdout",
     "output_type": "stream",
     "text": [
      "Iteration:      1,   Func. Count:      6,   Neg. LLF: 3895390155.5488644\n",
      "Iteration:      2,   Func. Count:     19,   Neg. LLF: 1.3312504144498854e+17\n",
      "Iteration:      3,   Func. Count:     31,   Neg. LLF: 173153833732.1455\n",
      "Iteration:      4,   Func. Count:     45,   Neg. LLF: -3229.337474312726\n",
      "Optimization terminated successfully    (Exit mode 0)\n",
      "            Current function value: -3229.3374808083627\n",
      "            Iterations: 8\n",
      "            Function evaluations: 45\n",
      "            Gradient evaluations: 4\n"
     ]
    },
    {
     "data": {
      "text/plain": [
       "mu          0.000842\n",
       "omega       0.000011\n",
       "alpha[1]    0.100000\n",
       "beta[1]     0.880000\n",
       "Name: params, dtype: float64"
      ]
     },
     "execution_count": 10,
     "metadata": {},
     "output_type": "execute_result"
    }
   ],
   "source": [
    "GARCH = arch_model(delta_yield, vol='Garch', p=1, o=0, q=1, dist='Normal')\n",
    "\n",
    "GARCH_model = GARCH.fit()\n",
    "\n",
    "GARCH_model.params"
   ]
  },
  {
   "cell_type": "code",
   "execution_count": 11,
   "id": "187a971e",
   "metadata": {},
   "outputs": [
    {
     "data": {
      "text/html": [
       "<div>\n",
       "<style scoped>\n",
       "    .dataframe tbody tr th:only-of-type {\n",
       "        vertical-align: middle;\n",
       "    }\n",
       "\n",
       "    .dataframe tbody tr th {\n",
       "        vertical-align: top;\n",
       "    }\n",
       "\n",
       "    .dataframe thead th {\n",
       "        text-align: right;\n",
       "    }\n",
       "</style>\n",
       "<table border=\"1\" class=\"dataframe\">\n",
       "  <thead>\n",
       "    <tr style=\"text-align: right;\">\n",
       "      <th></th>\n",
       "      <th>1 year</th>\n",
       "      <th>GARCH</th>\n",
       "    </tr>\n",
       "    <tr>\n",
       "      <th>Date</th>\n",
       "      <th></th>\n",
       "      <th></th>\n",
       "    </tr>\n",
       "  </thead>\n",
       "  <tbody>\n",
       "    <tr>\n",
       "      <th>2016-10-21</th>\n",
       "      <td>0.000280</td>\n",
       "      <td>0.000264</td>\n",
       "    </tr>\n",
       "    <tr>\n",
       "      <th>2016-10-24</th>\n",
       "      <td>0.000273</td>\n",
       "      <td>0.000244</td>\n",
       "    </tr>\n",
       "    <tr>\n",
       "      <th>2016-10-25</th>\n",
       "      <td>0.000267</td>\n",
       "      <td>0.000225</td>\n",
       "    </tr>\n",
       "    <tr>\n",
       "      <th>2016-10-26</th>\n",
       "      <td>0.000260</td>\n",
       "      <td>0.000209</td>\n",
       "    </tr>\n",
       "    <tr>\n",
       "      <th>2016-10-27</th>\n",
       "      <td>0.000257</td>\n",
       "      <td>0.000205</td>\n",
       "    </tr>\n",
       "  </tbody>\n",
       "</table>\n",
       "</div>"
      ],
      "text/plain": [
       "              1 year     GARCH\n",
       "Date                          \n",
       "2016-10-21  0.000280  0.000264\n",
       "2016-10-24  0.000273  0.000244\n",
       "2016-10-25  0.000267  0.000225\n",
       "2016-10-26  0.000260  0.000209\n",
       "2016-10-27  0.000257  0.000205"
      ]
     },
     "execution_count": 11,
     "metadata": {},
     "output_type": "execute_result"
    }
   ],
   "source": [
    "var['GARCH'] = None\n",
    "\n",
    "### Initialize with the given parameter\n",
    "var.iloc[0,1:] = 0.015**2\n",
    "\n",
    "### Simulate the rest of the period using the initial variance given\n",
    "for i in range(1, len(var)):\n",
    "    ### Forecast variance by plugging the GARCH and IGARCH parameters into their respective equations\n",
    "    var['GARCH'].iloc[i] = (GARCH_model.params['omega'] + var['GARCH'].iloc[i-1] * GARCH_model.params['beta[1]'] + GARCH_model.params['alpha[1]']*(delta_yield.iloc[i-1]**2))[0]\n",
    "    \n",
    "var = var.dropna()\n",
    "\n",
    "var.head()"
   ]
  },
  {
   "cell_type": "markdown",
   "id": "a04e3cac",
   "metadata": {},
   "source": [
    "##### 3."
   ]
  },
  {
   "cell_type": "code",
   "execution_count": 12,
   "id": "14b626f7",
   "metadata": {},
   "outputs": [
    {
     "data": {
      "image/png": "[encoded data removed]",
      "text/plain": [
       "<Figure size 864x576 with 1 Axes>"
      ]
     },
     "metadata": {},
     "output_type": "display_data"
    }
   ],
   "source": [
    "(var**.5).plot()\n",
    "\n",
    "plt.ylabel(r'$\\sigma$')\n",
    "plt.title('Volatility Forecast')\n",
    "plt.show()"
   ]
  },
  {
   "cell_type": "markdown",
   "id": "8a3a00f1",
   "metadata": {},
   "source": [
    "###### 4."
   ]
  },
  {
   "cell_type": "markdown",
   "id": "2163a135",
   "metadata": {},
   "source": [
    "Given by how much the expanding volatility prediction jumps over the course of 2020, we expect high volatility in the bond markets for the first part of 2020. The subsequent consistent decrease of the expanding prediction suggests much lower volatility in latter part of 2020 and all of 2021. The GARCH prediction suggests the same scenario. GARCH volatility predictions are high for the first part of 2020 and then very low in the later stages of 2020 and in 2021.\n",
    "\n",
    "We can be confident GARCH performed much better, as it will excel in time periods where volatility clusters. In the first half of 2020 we have high volatility for an extended period of time, and then from the second half of 2020 onwards we have seen low volatility. As GARCH adjusts predictions based on recent vol, it will predict significantly more accurate in time periods such as this.\n",
    "\n",
    "We expect these movements not just in the treasury bond markets but also in the bond market as a whole to some degree, due to the fact that part of the yields of many bonds can be attributed to a risk free return (the treasury yield)."
   ]
  },
  {
   "cell_type": "markdown",
   "id": "e3a03552",
   "metadata": {},
   "source": [
    "## 4 OLS vs. LASSO\n",
    "\n",
    "\n",
    "1. Run the following OLS regression for all data points and report the $R^2$. Let us exclude $y^{1yr}_{t−1}$ as a factor to better examine how OLS and LASSO regression models behave.\n",
    "\n",
    "\n",
    "$$\n",
    "y^{1yr}_t = \\alpha + y^{2yr}_{t−1} + y^{5yr}_{t−1} + y^{10yr}_{t−1} + y^{30yr}_{t−1}\n",
    "$$\n",
    "\n",
    "\n",
    "2. Why might this $R^2$ be misleading when assessing our ability to forecast the 1 year treasury yield?\n",
    "\n",
    "\n",
    "3. Run LASSO regression for the same regressand and regressors with a parameter of 0.05. Report the $\\alpha$, $\\beta$ and $R^2$.\n",
    "\n",
    "\n",
    "4. What would you expect the non-diagonal entries of the covariance matrix of the regressors to look like? Do you think it makes more sense to use the OLS or LASSO model here?"
   ]
  },
  {
   "cell_type": "markdown",
   "id": "1524a6fb",
   "metadata": {},
   "source": [
    "###### 1."
   ]
  },
  {
   "cell_type": "code",
   "execution_count": 13,
   "id": "6ee34156",
   "metadata": {},
   "outputs": [],
   "source": [
    "### Make a regression function that outputs parameters and r-squared\n",
    "def reg(x, y, intercept):\n",
    "    if intercept == True:\n",
    "        x = sm.add_constant(x)\n",
    "    \n",
    "    run_reg = sm.OLS(y,x).fit()\n",
    "    \n",
    "    output_df = run_reg.params.to_frame('Parameters')\n",
    "    output_df.loc[r'$R^{2}$'] = run_reg.rsquared\n",
    "    \n",
    "    return output_df"
   ]
  },
  {
   "cell_type": "code",
   "execution_count": 14,
   "id": "d87d57e0",
   "metadata": {},
   "outputs": [
    {
     "data": {
      "text/html": [
       "<div>\n",
       "<style scoped>\n",
       "    .dataframe tbody tr th:only-of-type {\n",
       "        vertical-align: middle;\n",
       "    }\n",
       "\n",
       "    .dataframe tbody tr th {\n",
       "        vertical-align: top;\n",
       "    }\n",
       "\n",
       "    .dataframe thead th {\n",
       "        text-align: right;\n",
       "    }\n",
       "</style>\n",
       "<table border=\"1\" class=\"dataframe\">\n",
       "  <thead>\n",
       "    <tr style=\"text-align: right;\">\n",
       "      <th></th>\n",
       "      <th>Parameters</th>\n",
       "    </tr>\n",
       "  </thead>\n",
       "  <tbody>\n",
       "    <tr>\n",
       "      <th>const</th>\n",
       "      <td>-0.185808</td>\n",
       "    </tr>\n",
       "    <tr>\n",
       "      <th>2 year</th>\n",
       "      <td>1.705989</td>\n",
       "    </tr>\n",
       "    <tr>\n",
       "      <th>5 year</th>\n",
       "      <td>-1.156961</td>\n",
       "    </tr>\n",
       "    <tr>\n",
       "      <th>10 year</th>\n",
       "      <td>0.312720</td>\n",
       "    </tr>\n",
       "    <tr>\n",
       "      <th>30 year</th>\n",
       "      <td>0.163609</td>\n",
       "    </tr>\n",
       "    <tr>\n",
       "      <th>$R^{2}$</th>\n",
       "      <td>0.994519</td>\n",
       "    </tr>\n",
       "  </tbody>\n",
       "</table>\n",
       "</div>"
      ],
      "text/plain": [
       "         Parameters\n",
       "const     -0.185808\n",
       "2 year     1.705989\n",
       "5 year    -1.156961\n",
       "10 year    0.312720\n",
       "30 year    0.163609\n",
       "$R^{2}$    0.994519"
      ]
     },
     "execution_count": 14,
     "metadata": {},
     "output_type": "execute_result"
    }
   ],
   "source": [
    "### Shift our regressors\n",
    "x = df[df.columns[1:]].shift(1).dropna()\n",
    "\n",
    "### Make the dataframes the same size so we can use the regression package\n",
    "y = df['1 year'].iloc[1:].to_frame('1 year').dropna()\n",
    "\n",
    "reg(x, y, True)"
   ]
  },
  {
   "cell_type": "markdown",
   "id": "0468afe1",
   "metadata": {},
   "source": [
    "###### 2."
   ]
  },
  {
   "cell_type": "markdown",
   "id": "63fb8655",
   "metadata": {},
   "source": [
    "Treasury yields are not stationary processes. The level of a treasury yield tomorrow is highly dependent on the treasury yield level today, and the $R^2$ reflects this, not whether we can forecast where the yield moves."
   ]
  },
  {
   "cell_type": "markdown",
   "id": "141ea290",
   "metadata": {},
   "source": [
    "###### 3."
   ]
  },
  {
   "cell_type": "code",
   "execution_count": 15,
   "id": "e6d1f081",
   "metadata": {},
   "outputs": [
    {
     "data": {
      "text/html": [
       "<div>\n",
       "<style scoped>\n",
       "    .dataframe tbody tr th:only-of-type {\n",
       "        vertical-align: middle;\n",
       "    }\n",
       "\n",
       "    .dataframe tbody tr th {\n",
       "        vertical-align: top;\n",
       "    }\n",
       "\n",
       "    .dataframe thead th {\n",
       "        text-align: right;\n",
       "    }\n",
       "</style>\n",
       "<table border=\"1\" class=\"dataframe\">\n",
       "  <thead>\n",
       "    <tr style=\"text-align: right;\">\n",
       "      <th></th>\n",
       "      <th>Parameters</th>\n",
       "    </tr>\n",
       "  </thead>\n",
       "  <tbody>\n",
       "    <tr>\n",
       "      <th>2 year</th>\n",
       "      <td>0.927</td>\n",
       "    </tr>\n",
       "    <tr>\n",
       "      <th>5 year</th>\n",
       "      <td>0.000</td>\n",
       "    </tr>\n",
       "    <tr>\n",
       "      <th>10 year</th>\n",
       "      <td>0.000</td>\n",
       "    </tr>\n",
       "    <tr>\n",
       "      <th>30 year</th>\n",
       "      <td>-0.000</td>\n",
       "    </tr>\n",
       "    <tr>\n",
       "      <th>Intercept</th>\n",
       "      <td>0.003</td>\n",
       "    </tr>\n",
       "  </tbody>\n",
       "</table>\n",
       "</div>"
      ],
      "text/plain": [
       "           Parameters\n",
       "2 year          0.927\n",
       "5 year          0.000\n",
       "10 year         0.000\n",
       "30 year        -0.000\n",
       "Intercept       0.003"
      ]
     },
     "execution_count": 15,
     "metadata": {},
     "output_type": "execute_result"
    }
   ],
   "source": [
    "model_lasso = Lasso(alpha=.05).fit(x,y)\n",
    "\n",
    "lasso_res = pd.DataFrame(data = model_lasso.coef_, index = x.columns, columns = ['Parameters'])\n",
    "\n",
    "lasso_res.loc['Intercept'] = model_lasso.intercept_\n",
    "\n",
    "round(lasso_res, 3)"
   ]
  },
  {
   "cell_type": "code",
   "execution_count": 16,
   "id": "e31e5f2f",
   "metadata": {},
   "outputs": [
    {
     "name": "stdout",
     "output_type": "stream",
     "text": [
      "Lasso r-squared: 0.975\n"
     ]
    }
   ],
   "source": [
    "print('Lasso r-squared: ' + str(round(model_lasso.score(x,y),3)))"
   ]
  },
  {
   "cell_type": "markdown",
   "id": "04d990da",
   "metadata": {},
   "source": [
    "###### 4."
   ]
  },
  {
   "cell_type": "markdown",
   "id": "794419bd",
   "metadata": {},
   "source": [
    "Treasury yields of different tenors are highly correlated, so we have non-zero values in the non-diagonal entries of the covariance matrix. We can suspect this by the magnitude of the regressors and $R^2$ in the OLS model vs. the LASSO model, and also by what the securities themselves are (e.g. part of the 2 year treasury yield is based off of what the 1 year yield is).\n",
    "\n",
    "It makes sense to use LASSO here, as it deals with the multicollinearity exhibited by the OLS regression. The OLS assumption of independent regressors fails in this case."
   ]
  }
 ],
 "metadata": {
  "kernelspec": {
   "display_name": "Python 3 (ipykernel)",
   "language": "python",
   "name": "python3"
  },
  "language_info": {
   "codemirror_mode": {
    "name": "ipython",
    "version": 3
   },
   "file_extension": ".py",
   "mimetype": "text/x-python",
   "name": "python",
   "nbconvert_exporter": "python",
   "pygments_lexer": "ipython3",
   "version": "3.8.8"
  }
 },
 "nbformat": 4,
 "nbformat_minor": 5
}
