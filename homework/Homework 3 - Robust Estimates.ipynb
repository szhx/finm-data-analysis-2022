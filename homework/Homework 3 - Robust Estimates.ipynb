{
 "cells": [
  {
   "cell_type": "markdown",
   "id": "1c8f4ee2",
   "metadata": {},
   "source": [
    "# Homework 3 - Robust Estimates\n",
    "## Data Analysis\n",
    "### FINM August Review \n",
    "\n",
    "Mark Hendricks\n",
    "\n",
    "hendricks@uchicago.edu"
   ]
  },
  {
   "cell_type": "markdown",
   "id": "48e9a6c4",
   "metadata": {},
   "source": [
    "# 1 Robust Estimators"
   ]
  },
  {
   "cell_type": "markdown",
   "id": "f4bad4a6",
   "metadata": {},
   "source": [
    "Again, use the data in `../data/spy_rates_data.xlsx`\n",
    "\n",
    "- Return data on various asset classes.\n",
    "- This data comes via ETFs, which we will discuss in the Markets series.\n",
    "- Use the multivariate regression model in Homework 2 of SPY on the dividend-price ratio and treasury rate.\n",
    "\n",
    "\n",
    "## 1.1 Serial Correlation and Durbin Watson Test\n",
    "\n",
    "Residuals are the difference between the observed values $r_t^{\\text{SPY}}$ and predicted values $\\hat{r_t}^{\\text{SPY}}$\n",
    "\n",
    "$$r_t^{\\text{SPY}} = \\alpha + \\boldsymbol{\\beta}\\boldsymbol{r}_t + \\epsilon_t$$\n",
    "\n",
    "$$\\hat{r_t}^{\\text{SPY}} = \\alpha + \\boldsymbol{\\beta}\\boldsymbol{r}_t$$\n",
    "\n",
    "$$ \\implies \\epsilon_t = r_t^{\\text{SPY}} - \\hat{r_t}^{\\text{SPY}}$$\n",
    "\n",
    "\n",
    "**1. Calculate the residuals from the multivariate regression model. Also compute the first lag of the residuals. Plot the residuals and the first lag of residuals using a scatterplot. Calculate the correlation between the two. Interpret the results**\n",
    "\n",
    "\n",
    "**2. Compute and Display the ACF plot for the residuals.**\n",
    "\n",
    "*Serial correlation (also called autocorrelation) is where an error at one point in time travels to a subsequent point in time. An ACF Plot or Autocorrelation plot is a visual way to show serial correlation in data that changes over time. In the previous question we checked the serial correlation at lag 1, but an ACF plot helps us visually inspect serial correlation at multiple lags.*\n",
    "\n",
    "\n",
    "**3. Calculate the Durbin-Watson statistic and p-value for the model residuals. What do you see?**\n",
    "\n",
    "\n",
    "## 1.2 Heteroskedasticity and White's Test\n",
    "\n",
    "\n",
    "Using the residuals calculated in the previous question, achieve the following:\n",
    "\n",
    "**1. Create a scatterplot of the model residuals against the fitted values and the model regressors. Do you see any patterns. What can you conclude?**\n",
    "\n",
    "\n",
    "**2. Calculate White's test for heteroskedasticity. Display the test statistic and the p-value. State the null and the alternative hypothesis for this test. Interpret your results. What can you conclude?**\n",
    "\n",
    "\n",
    "## 1.3 Robust Standard Errors\n",
    "\n",
    "**1. Calculate robust standard errors. These are known as HAC estimators, with perhaps the most well-known being the Newey-West estimators. They correct for any heteroskedasticity and serial correlation, returning modified t-stats. (The estimates of alpha and betas should be the same as classic OLS.)**\n",
    "\n",
    "**2. Compare the HAC-consistent p-values to the one observed in standard case and comment if the regressors are still statistically significant** "
   ]
  }
 ],
 "metadata": {
  "hide_input": false,
  "kernelspec": {
   "display_name": "Python 3 (ipykernel)",
   "language": "python",
   "name": "python3"
  },
  "language_info": {
   "codemirror_mode": {
    "name": "ipython",
    "version": 3
   },
   "file_extension": ".py",
   "mimetype": "text/x-python",
   "name": "python",
   "nbconvert_exporter": "python",
   "pygments_lexer": "ipython3",
   "version": "3.9.7"
  }
 },
 "nbformat": 4,
 "nbformat_minor": 5
}
