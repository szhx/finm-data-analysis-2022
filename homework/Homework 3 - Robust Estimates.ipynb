{
 "cells": [
  {
   "cell_type": "markdown",
   "id": "1c8f4ee2",
   "metadata": {},
   "source": [
    "# Homework 3\n",
    "## Data Analysis\n",
    "### FINM August Review \n",
    "\n",
    "Mark Hendricks\n",
    "\n",
    "hendricks@uchicago.edu"
   ]
  },
  {
   "cell_type": "markdown",
   "id": "57bd52b6",
   "metadata": {},
   "source": [
    "# 1 Robust Estimates"
   ]
  },
  {
   "cell_type": "markdown",
   "id": "f4bad4a6",
   "metadata": {},
   "source": [
    "Consider the model in Homework 2 of SPY on the dividend yield and treasury rate.\n",
    "\n",
    "Again, use the data in `../data/spy_rates_data.xlsx`.\n",
    "\n",
    "## 1.1\n",
    "Calculate the Durbin-Watson test for serial correlation.\n",
    "\n",
    "What do you find?\n",
    "\n",
    "## 1.2\n",
    "Calculate White's test for heteroskedasticity.\n",
    "\n",
    "## 1.3\n",
    "Calculate robust standard errors. These are known as HAC estimators, with perhaps the most well-known being the Newey-West estimators. They correct for any heteroskedasticity and serial correlation, returning modified t-stats. (The estimates of alpha and betas should be the same as classic OLS.)"
   ]
  }
 ],
 "metadata": {
  "hide_input": false,
  "kernelspec": {
   "display_name": "Python 3 (ipykernel)",
   "language": "python",
   "name": "python3"
  },
  "language_info": {
   "codemirror_mode": {
    "name": "ipython",
    "version": 3
   },
   "file_extension": ".py",
   "mimetype": "text/x-python",
   "name": "python",
   "nbconvert_exporter": "python",
   "pygments_lexer": "ipython3",
   "version": "3.9.7"
  }
 },
 "nbformat": 4,
 "nbformat_minor": 5
}
