{
 "cells": [
  {
   "cell_type": "markdown",
   "id": "1c8f4ee2",
   "metadata": {},
   "source": [
    "# Homework - Volatility\n",
    "## Data Analysis\n",
    "### FINM August Review \n",
    "\n",
    "Mark Hendricks\n",
    "\n",
    "hendricks@uchicago.edu"
   ]
  },
  {
   "cell_type": "markdown",
   "id": "799f3bf0",
   "metadata": {},
   "source": [
    "# 1 Models of Volatility\n",
    "\n",
    "We will calculate a time-series of volatility estimates using a few different methods. For each, we use $\\sigma_t$ to denote our estimate of the time-$t$ return volatility, as based on data over periods through $t-1$, but not including $t$ itself. "
   ]
  },
  {
   "cell_type": "markdown",
   "id": "da2e40be",
   "metadata": {},
   "source": [
    "This problem uses data from `../data/multi_asset_etf_data.xlsx`.\n",
    "\n",
    "Estimate the following using the SPY return series. We use a common (but biased) version of the usual variance estimator by ignoring $\\mu$ and dividing by the number of data points, rather than by the degrees of freedom. "
   ]
  },
  {
   "cell_type": "markdown",
   "id": "44214162",
   "metadata": {},
   "source": [
    "### Expanding Series\n",
    "$$\\begin{align*}\n",
    "\\sigma^2_{t} =& \\frac{1}{t-1}\\sum_{\\tau=1}^{t-1} r_\\tau ^ 2\n",
    "\\end{align*}$$\n",
    "\n",
    "Begin the calculation at $t=61$, so that the first estimate is based on 60 data points.\n",
    "\n",
    "### Rolling Window\n",
    "\\begin{align*}\n",
    "\\sigma^2_{t} =& \\frac{1}{m}\\sum_{l=1}^{m} r_{t-l}^2\n",
    "\\end{align*}\n",
    "Use $m=60$, and begin the calculation at the $t=61$, (so that the calculation has a full 60 data points.) Consider, (if you have a pandas dataframe named, \\texttt{df},) using pandas method \\texttt{df.rolling(60).std()}"
   ]
  },
  {
   "cell_type": "markdown",
   "id": "dbe12301",
   "metadata": {},
   "source": [
    "### IGARCH \n",
    "(famously used in \\textit{Risk Metrics})\n",
    "$$\\begin{align*}\n",
    "\\sigma^2_{t} =& \\theta \\sigma^2_{t-1} + (1-\\theta) r_{t-1}^2\n",
    "\\end{align*}$$\n",
    "\n",
    "Rather than estimating $\\theta$, simply use $\\theta = 0.97$, and initialize with $\\sigma_1 = 0.15\\left(\\frac{1}{\\sqrt{12}}\\right)$.\n",
    "\n",
    "\n",
    "### GARCH(1,1)\n",
    "$$\\begin{align*}\n",
    "\\sigma^2_{t} =& \\omega + \\theta \\sigma^2_{t-1} + \\gamma r_{t-1}^2\n",
    "\\end{align*}$$\n",
    "\n",
    "To estimate GARCH(1,1), try using the ARCH package in Python. The default estimation implementation is fine, (and will account for $\\mu$ and degrees of freedom.) "
   ]
  },
  {
   "cell_type": "markdown",
   "id": "4e3d587d",
   "metadata": {},
   "source": [
    "# Exercise\n",
    "For each of these methods, \n",
    "* plot $\\sigma_t$. (Plot the volatility, the square-root of the variance.)\n",
    "* report the estimation for October 2008, April 2020, and May 2022."
   ]
  }
 ],
 "metadata": {
  "hide_input": false,
  "kernelspec": {
   "display_name": "Python 3 (ipykernel)",
   "language": "python",
   "name": "python3"
  },
  "language_info": {
   "codemirror_mode": {
    "name": "ipython",
    "version": 3
   },
   "file_extension": ".py",
   "mimetype": "text/x-python",
   "name": "python",
   "nbconvert_exporter": "python",
   "pygments_lexer": "ipython3",
   "version": "3.9.7"
  }
 },
 "nbformat": 4,
 "nbformat_minor": 5
}
