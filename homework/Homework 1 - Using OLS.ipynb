{
 "cells": [
  {
   "cell_type": "markdown",
   "id": "46152bd4",
   "metadata": {},
   "source": [
    "# Homework 1\n",
    "## Data Analysis\n",
    "### FINM August Review \n",
    "\n",
    "Mark Hendricks\n",
    "\n",
    "hendricks@uchicago.edu"
   ]
  },
  {
   "cell_type": "markdown",
   "id": "5cc87187",
   "metadata": {},
   "source": [
    "#### Data\n",
    "\n",
    "- This homework uses the file, “hw 1 data.xlsx”.\n",
    "- Find the data in the Github repo associated with the module, (link on Canvas.)\n",
    "\n",
    "The data file contains...\n",
    "- Return rates, $r^i_t$, for various asset classes, (via ETFs.)\n",
    "- Most notable among these securities is SPY, the return on the S&P 500. Denote this as $r^{spy}_t$\n",
    "- A separate tab gives return rates for a particular portfolio, $r^p_t$"
   ]
  },
  {
   "cell_type": "markdown",
   "id": "2291d8d1",
   "metadata": {},
   "source": [
    "## 1. Regression"
   ]
  },
  {
   "cell_type": "markdown",
   "id": "7d09b606",
   "metadata": {},
   "source": [
    "1. Estimate the regression of the portfolio return on SPY:\n",
    "$$r^p_t = \\alpha + \\beta^{spy} r^{spy}_t + \\epsilon^{spy}_t$$\n",
    "Specifically, report alpha, beta, and the r-squared."
   ]
  },
  {
   "cell_type": "markdown",
   "id": "9d72ec07",
   "metadata": {},
   "source": [
    "2. Estimate the regression of the portfolio return on SPY and on HYG, the return on high-yield corporate bonds, denoted as $r^{hyg}_t$:\n",
    "$$r^p_t = \\tilde{\\alpha} + \\tilde{\\beta}^{spy} r^{spy}_t + \\tilde{\\beta}^{hyg}r^{hyg}_t + \\tilde{\\epsilon}_t$$\n",
    "Specifically, report alpha, beta, and the r-squared.\n",
    "Note that the ~ in (2) are just to clarify that these are different from the parameters in (1)."
   ]
  },
  {
   "cell_type": "markdown",
   "id": "0de50790",
   "metadata": {},
   "source": [
    "3. Calculate the time-series of fitted regression values:\n",
    "$$\\hat{r}^p_t = \\tilde{\\alpha} + \\tilde{\\beta}^{spy} r^{spy}_t + \\tilde{\\beta}^{hyg}r^{hyg}_t $$\n",
    "Your statistical package will output these fitted values for you, or you can construct them using the estimated parameters. What is the correlation between $\\hat{r}^p_t$ and $r^p_t$ ? How does that compare to the r-squared of the regression in (2)?"
   ]
  },
  {
   "cell_type": "markdown",
   "id": "8262ae25",
   "metadata": {},
   "source": [
    "4. How do the SPY betas differ across (1) and (2), ($\\beta^{spy}$ vs $\\tilde{\\beta}^{spy}$)? How does this relate to the correlation between $r^{spy}_t$ and $r^{hyg}_t$?"
   ]
  },
  {
   "cell_type": "markdown",
   "id": "e1e1c278",
   "metadata": {},
   "source": [
    "5. Without doing any calculation, would you expect $\\epsilon_t$ or $\\tilde{\\epsilon}_t$ to have higher correlation to $r^{hyg}_t$ ?"
   ]
  },
  {
   "cell_type": "markdown",
   "id": "cd153b85",
   "metadata": {},
   "source": [
    "## 2. Decomposing and Replicating"
   ]
  },
  {
   "cell_type": "markdown",
   "id": "780ac04e",
   "metadata": {},
   "source": [
    "1. The portfolio return, $r^p_t$ , is a combination of the base assets that are provided here. Use linear regression to uncover which weights were used in constructing the portfolio.\n",
    "$$r^p_t = \\alpha + (\\beta^r)^′r_t + \\epsilon_t$$\n",
    "\n",
    "    where $r$ denotes the vector of returns for the individual securities\n",
    "    - What does the regression find were the original weights?\n",
    "    - How precise is the estimation? Consider the R-squared and t-stats.\n"
   ]
  },
  {
   "cell_type": "markdown",
   "id": "9ea7d385",
   "metadata": {},
   "source": [
    "2. Suppose that we want to mimic TIP using the other securities. Run the following regression–but do so only using data through the end of 2018.\n",
    "\n",
    "$$r^{TIP}_t = \\alpha + (\\beta)^′r_t + \\epsilon_t$$\n",
    "    \n",
    "where $r$ denotes the vector of returns for the other securities, excluding TIP.\n",
    "- Report the r-squared and the estimate of the vector, $\\beta$.\n",
    "- Report the t-stats of the explanatory returns. Which have absolute value greater than 2?\n",
    "- Plot the returns of TIP along with the replication values."
   ]
  },
  {
   "cell_type": "markdown",
   "id": "57560db2",
   "metadata": {},
   "source": [
    "3. Perhaps the replication results in the previous problem are overstated given that they estimated the parameters within a sample and then evaluated how well the result fit in the same sample. This is known as in-sample fit. Using the estimates through 2018, (the α and β from the previous problem,) calculate the out-of-sample (OOS) values of the replication, using the 2019-2022 returns, denoted r^{oos}_t:\n",
    "$$\\hat{r}^{TIPoos}_t = (\\beta)^′r^{oos}_t$$\n",
    "\n",
    "    - What is the correlation between $\\hat{r}^{TIPoos}_t$ and $r^{oos}_t$ ?\n",
    "    - How does this compare to the $R^2$ from the regression above based on data through 2018?"
   ]
  }
 ],
 "metadata": {
  "hide_input": false,
  "kernelspec": {
   "display_name": "Python 3 (ipykernel)",
   "language": "python",
   "name": "python3"
  },
  "language_info": {
   "codemirror_mode": {
    "name": "ipython",
    "version": 3
   },
   "file_extension": ".py",
   "mimetype": "text/x-python",
   "name": "python",
   "nbconvert_exporter": "python",
   "pygments_lexer": "ipython3",
   "version": "3.9.7"
  },
  "toc": {
   "base_numbering": 1,
   "nav_menu": {},
   "number_sections": true,
   "sideBar": true,
   "skip_h1_title": false,
   "title_cell": "Table of Contents",
   "title_sidebar": "Contents",
   "toc_cell": false,
   "toc_position": {},
   "toc_section_display": true,
   "toc_window_display": false
  },
  "varInspector": {
   "cols": {
    "lenName": 16,
    "lenType": 16,
    "lenVar": 40
   },
   "kernels_config": {
    "python": {
     "delete_cmd_postfix": "",
     "delete_cmd_prefix": "del ",
     "library": "var_list.py",
     "varRefreshCmd": "print(var_dic_list())"
    },
    "r": {
     "delete_cmd_postfix": ") ",
     "delete_cmd_prefix": "rm(",
     "library": "var_list.r",
     "varRefreshCmd": "cat(var_dic_list()) "
    }
   },
   "types_to_exclude": [
    "module",
    "function",
    "builtin_function_or_method",
    "instance",
    "_Feature"
   ],
   "window_display": false
  }
 },
 "nbformat": 4,
 "nbformat_minor": 5
}
