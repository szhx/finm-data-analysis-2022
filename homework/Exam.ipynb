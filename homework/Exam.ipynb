{
 "cells": [
  {
   "cell_type": "markdown",
   "id": "31dca3cd",
   "metadata": {},
   "source": [
    "# Exam\n",
    "## Data Analysis\n",
    "### FINM August Review \n",
    "\n",
    "Mark Hendricks\n",
    "\n",
    "hendricks@uchicago.edu\n",
    "\n",
    "Maneet Singh - TA\n",
    "\n",
    "maneetsingh@uchicago.edu"
   ]
  },
  {
   "cell_type": "markdown",
   "id": "6726a1af",
   "metadata": {},
   "source": [
    "### Data\n",
    "\n",
    "#### For Part 1 and Part 2:\n",
    "\n",
    "This assignment uses data from Yahoo Finance (See the ”Demo Regression” file). Use one of the following methods to extract the required data:\n",
    "\n",
    "- yfinance: https://pypi.org/project/yfinance/\n",
    "- pandas-datareader: https://pandas-datareader.readthedocs.io/en/latest/\n",
    "\n",
    "\n",
    "#### For Part 3 and Part 4:\n",
    "\n",
    "- This homework uses the file, “treasury_rates.xls”.\n",
    "- Find the data in the Github repo associated with the module, (link on Canvas.)\n",
    "- The data file contains Daily treasury rates, $y^{T}_t$, for different tenors $T = \\{1yr, 2yr, 5yr, 10yr, 30yr\\}$"
   ]
  },
  {
   "cell_type": "markdown",
   "id": "e41e427c",
   "metadata": {},
   "source": [
    "## 1  Data and Constructing Returns\n",
    "\n",
    "1. Acquire daily adjusted close prices for GOLD, SPY, and TSLA, use the time periods where we have data for all.\n",
    "\n",
    "\n",
    "2. Construct daily returns for GOLD, SPY and TSLA (use the percent change pandas method)."
   ]
  },
  {
   "cell_type": "markdown",
   "id": "1d0dcbdd",
   "metadata": {},
   "source": [
    "## 2 Linear Regression\n",
    "\n",
    "1. Regress GOLD on the market (SPY) and report $\\alpha$, $\\beta$, and $R^2$\n",
    "\n",
    "\n",
    "2. If SPY were to decrease by 5% tomorrow, what would happen to GOLD and how certain of the movement in GOLD would you be?\n",
    "\n",
    "\n",
    "3. Regress GOLD on the market without an intercept and report $\\beta$ and $R^2$\n",
    "\n",
    "\n",
    "4. How does no longer including an intercept change the role of the regressor? In 2.1 what is the conceptual meaning of $\\alpha$?\n"
   ]
  },
  {
   "cell_type": "markdown",
   "id": "9dacc0e2",
   "metadata": {},
   "source": [
    "## 3 Volatility Models\n",
    "\n",
    "\n",
    "1. Fit an Expanding Series volatility model for the $\\Delta y^{1yr}$ data that starts when $t = 40$\n",
    "\n",
    "\n",
    "2. Fit a GARCH(1,1) model for $\\Delta y^{1yr}$. When forecasting use the initial parameter $\\sigma = 0.015$\n",
    "\n",
    "\n",
    "3. Forecast and plot $\\sigma_t$ for both.\n",
    "\n",
    "\n",
    "4. Given only the volatility prediction plot, would you expect high volatility in the bond markets in 2020? What about in 2021? Which model do you think performed better when it came to predicting daily volatility?"
   ]
  },
  {
   "cell_type": "markdown",
   "id": "ba09de32",
   "metadata": {},
   "source": [
    "## 4 OLS vs. LASSO\n",
    "\n",
    "\n",
    "1. Run the following OLS regression for all data points and report the $R^2$. Let us exclude $y^{1yr}_{t−1}$ as a factor to better examine how OLS and LASSO regression models behave.\n",
    "\n",
    "\n",
    "$$\n",
    "y^{1yr}_t = \\alpha + y^{2yr}_{t−1} + y^{5yr}_{t−1} + y^{10yr}_{t−1} + y^{30yr}_{t−1}\n",
    "$$\n",
    "\n",
    "\n",
    "2. Why might this $R^2$ be misleading when assessing our ability to forecast the 1 year treasury yield?\n",
    "\n",
    "\n",
    "3. Run LASSO regression for the same regressand and regressors with a parameter of 0.05. Report the $\\alpha$, $\\beta$ and $R^2$.\n",
    "\n",
    "\n",
    "4. What would you expect the non-diagonal entries of the covariance matrix of the regressors to look like? Do you think it makes more sense to use the OLS or LASSO model here?"
   ]
  }
 ],
 "metadata": {
  "kernelspec": {
   "display_name": "Python 3 (ipykernel)",
   "language": "python",
   "name": "python3"
  },
  "language_info": {
   "codemirror_mode": {
    "name": "ipython",
    "version": 3
   },
   "file_extension": ".py",
   "mimetype": "text/x-python",
   "name": "python",
   "nbconvert_exporter": "python",
   "pygments_lexer": "ipython3",
   "version": "3.8.8"
  }
 },
 "nbformat": 4,
 "nbformat_minor": 5
}
