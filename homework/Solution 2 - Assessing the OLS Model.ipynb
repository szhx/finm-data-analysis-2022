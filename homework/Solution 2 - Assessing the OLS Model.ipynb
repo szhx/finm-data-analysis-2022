{
 "cells": [
  {
   "cell_type": "markdown",
   "id": "d5ad0967",
   "metadata": {},
   "source": [
    "# Solution 2\n",
    "## Data Analysis\n",
    "### FINM August Review \n",
    "\n",
    "Mark Hendricks\n",
    "\n",
    "hendricks@uchicago.edu"
   ]
  },
  {
   "cell_type": "markdown",
   "id": "add09f2d",
   "metadata": {},
   "source": [
    "# 1 Multivariate Regression"
   ]
  },
  {
   "cell_type": "markdown",
   "id": "f8fe4eb5",
   "metadata": {},
   "source": [
    "This problem utilizes the data in `../data/multi_asset_etf_data.xlsx`.\n",
    "* Return data on various asset classes.\n",
    "* This data comes via ETFs, which we will discuss in the Markets series."
   ]
  },
  {
   "cell_type": "markdown",
   "id": "45be1290",
   "metadata": {},
   "source": [
    "## 1.1 Correlation\n",
    "\n",
    "Calculate and display the correlation matrix of the returns.\n",
    "\n",
    "Consider displaying it with `seaborn.heatmap`.\n",
    "\n",
    "Which pair has the highest correlation? And the smallest (most negative)?"
   ]
  },
  {
   "cell_type": "markdown",
   "id": "118026f4",
   "metadata": {},
   "source": [
    "## 1.2 Multivariate Regression\n",
    "\n",
    "Suppose that we want to decompose `PSP` into a linear combination of other asset classes.\n",
    "* `PSP` is a benchmark of private equity returns.\n",
    "* There is substantial research (and controversy) as to whether private equity returns can be produced from other simple assets.\n",
    "* We will see.\n",
    "\n",
    "$$r_t^{\\text{PSP}} = \\alpha + \\boldsymbol{\\beta}\\boldsymbol{r}_t + \\epsilon_t$$\n",
    "\n",
    "where $\\boldsymbol{r}_t$ denotes the vector of all the other returns (excluding PSP) at time $t$.\n",
    "\n",
    "Report\n",
    "* the estimated alpha\n",
    "* the estimated betas\n",
    "* the r-squared\n",
    "\n",
    "#### Python tip\n",
    "Consider forming `X = rets.drop(columns=['PSP'])`.\n",
    "\n",
    "Consider using one of the following for the regression.\n",
    "* `statsmodels.OLS`\n",
    "* `sklearn.linear_models.LinearRegression()`\n",
    "\n",
    "The former will include various regression statistics. The latter will just produce the estimates."
   ]
  },
  {
   "cell_type": "markdown",
   "id": "8135b7b4",
   "metadata": {},
   "source": [
    "## 1.3 Interpretation\n",
    "\n",
    "Based on your estimates, do you think it is feasible to replicate `PSP` with these other assets? Be specific, citing your answers to the previous question. What does $\\alpha$ indicate? What does the r-squared statistic indicate?"
   ]
  },
  {
   "cell_type": "markdown",
   "id": "1cb862b7",
   "metadata": {},
   "source": [
    "## 1.4 Multicollinearity\n",
    "\n",
    "Should we be worried about multicollinearity in this case?\n",
    "\n",
    "Calculate some metrics about $X'X$, (noting that in our case \"$X$\" is the array of return data, excluding `PSP`.\n",
    "\n",
    "* determinant\n",
    "* conditioning number\n",
    "\n",
    "What do these metrics indicate?\n",
    "\n",
    "#### Python tip\n",
    "You may find these `numpy` functions helpful:\n",
    "* `numpy.linalg.cond()`\n",
    "* `numpy.linalg.det()`"
   ]
  },
  {
   "cell_type": "markdown",
   "id": "42ea4df2",
   "metadata": {},
   "source": [
    "## 1.5 Impact of multicollinearity\n",
    "\n",
    "With multicollinearity, we are concerned that the regression estimates\n",
    "* are imprecise.\n",
    "* will change a lot in response to small changes in new data.\n",
    "* will perform badly out of sample.\n",
    "\n",
    "To investigate...\n",
    "* report the t-stats of the betas"
   ]
  },
  {
   "cell_type": "markdown",
   "id": "dcc3b6da",
   "metadata": {},
   "source": [
    "## 1.X Extra: \n",
    "Estimate the regression, but this time using only data through 2019. \n",
    "* Apply these estimated betas to the data in 2020-2022 to construct the replication of `PSP` ($\\hat{y}$) out of sample.\n",
    "* What is the correlation of PSP in 2020-2022 versus this out-of-sample regression estimate?\n",
    "\n",
    "Graph `PSP` against the regression estimate, both through 2019 (in sample) and 2020-2022 (out of sample.)"
   ]
  },
  {
   "cell_type": "markdown",
   "id": "068a51cd",
   "metadata": {},
   "source": [
    "# Appendix: Condition number of a matrix\n",
    "\n",
    "$\\newcommand{\\olsb}{\\boldsymbol{b}}$\n",
    "$\\newcommand{\\olsy}{\\boldsymbol{y}}$\n",
    "\n",
    "Consider the linear equation\n",
    "\n",
    "$$\\olsy = a + X\\olsb + e$$\n",
    "\n",
    "Solving for $\\olsb$,\n",
    "$$(X'X)\\olsb = X'\\olsy$$\n",
    "\n",
    "Denote the condition number of $X'X$ as $\\kappa$.\n",
    "\n",
    "Then,\n",
    "$$\\frac{||\\delta \\olsb||}{||\\olsb||} \\le \\kappa \\frac{||\\delta X'\\olsy||}{||X'\\olsy||}$$\n",
    "\n",
    "#### This says that \n",
    "- estimation error of size $\\delta$ in the covariation of $X$ and $\\olsy$ \n",
    "- will lead to errors up to size $\\kappa\\delta$ in the estimation of $\\olsb$."
   ]
  },
  {
   "cell_type": "markdown",
   "id": "e787c6ec",
   "metadata": {},
   "source": [
    "# 2 Heteroskedasticity \\& Serial Correlation"
   ]
  },
  {
   "cell_type": "markdown",
   "id": "8efd91a6",
   "metadata": {},
   "source": [
    "$$\\newcommand{\\rspyt}{r_{\\text{spy}}}$$\n",
    "$$\\newcommand{\\rspyt}{r_{\\text{spy},t}}$$"
   ]
  },
  {
   "cell_type": "markdown",
   "id": "d834af6e",
   "metadata": {},
   "source": [
    "## Data\n",
    "\n",
    "This problem uses the file, `../data/spy_rates_data.xlsx`.\n",
    "* Return rates for SPY, the return on the S\\&P 500. Denote this as $\\rspyt$.\n",
    "* Dividend-price ratio for the S\\&P 500.\n",
    "* 10-year yields on US Treasuries."
   ]
  },
  {
   "cell_type": "markdown",
   "id": "8ccbd6c1",
   "metadata": {},
   "source": [
    "## 2.1\n",
    "Use linear regression to calculate whether S\\&P 500 returns (SPY) are impacted by 10-year yields and the dividend-price ratio.\n",
    "\n",
    "$$\\begin{align}\n",
    "\\rspyt = \\alpha + \\boldsymbol{\\beta}'\\boldsymbol{X}_t + \\epsilon_t\n",
    "\\label{eq:spy_on_macro}\n",
    "\\end{align}$$\n",
    "\n",
    "where $\\boldsymbol{X}$ denotes the matrix of values of the 10-year-yield and the dividend-price ratio.\n",
    "\n",
    "Report the betas."
   ]
  },
  {
   "cell_type": "markdown",
   "id": "3b0d0d0a",
   "metadata": {},
   "source": [
    "## 2.2\n",
    "Try using `statsmodels.OLS` to estimate the regression, and print the \"summary\" of the results which will show the t-stats, p-values, etc. Are either of the regressors are statistically significant?"
   ]
  },
  {
   "cell_type": "markdown",
   "id": "a60b5303",
   "metadata": {},
   "source": [
    "## 2.3\n",
    "Calculate the correlation between the sample residuals, $e_t$, and their lagged value, $e_{t-1}$. Are they highly correlated? You may find it helpful to use .shift in pandas to get the lagged series."
   ]
  },
  {
   "cell_type": "markdown",
   "id": "9adf783b",
   "metadata": {},
   "source": [
    "## 2.4\n",
    "Calculate the regression of\n",
    "$$e_t = \\alpha + \\boldsymbol{\\beta}'\\boldsymbol{X}_t + u_t$$\n",
    "\n",
    "## 2.5\n",
    "What do the previous two calculations have to do with identifying serial correlation and heteroskedasticity?"
   ]
  },
  {
   "cell_type": "markdown",
   "id": "3303ef33",
   "metadata": {},
   "source": [
    "# <span style='color:red'>Solution 1</span>"
   ]
  },
  {
   "cell_type": "code",
   "execution_count": 1,
   "id": "7dceb825",
   "metadata": {},
   "outputs": [],
   "source": [
    "import numpy as np\n",
    "import pandas as pd\n",
    "pd.options.display.float_format = \"{:,.4f}\".format\n",
    "\n",
    "import matplotlib.pyplot as plt\n",
    "%matplotlib inline\n",
    "plt.rcParams['figure.figsize'] = (12,6)\n",
    "plt.rcParams['font.size'] = 15\n",
    "plt.rcParams['legend.fontsize'] = 13\n",
    "\n",
    "import seaborn as sns\n",
    "\n",
    "import statsmodels.api as sm\n",
    "from sklearn.linear_model import LinearRegression"
   ]
  },
  {
   "cell_type": "code",
   "execution_count": 2,
   "id": "aa8756f2",
   "metadata": {},
   "outputs": [],
   "source": [
    "filepath_data = '../data/multi_asset_etf_data.xlsx'\n",
    "info = pd.read_excel(filepath_data,sheet_name='descriptions')\n",
    "info.rename(columns={'Unnamed: 0':'Symbol'},inplace=True)\n",
    "info.set_index('Symbol',inplace=True)\n",
    "\n",
    "rets = pd.read_excel(filepath_data,sheet_name='total returns')\n",
    "rets.set_index('Date',inplace=True)\n",
    "rets.drop(columns=['SHV'])\n",
    "\n",
    "retsx = pd.read_excel(filepath_data,sheet_name='excess returns')\n",
    "retsx.set_index('Date',inplace=True)\n",
    "\n",
    "# sort columns by order of descriptions in Info tab\n",
    "symbol_list = info.index.drop('SHV')\n",
    "rets = rets[symbol_list]\n",
    "retsx = retsx[symbol_list]"
   ]
  },
  {
   "cell_type": "code",
   "execution_count": 3,
   "id": "b608d265",
   "metadata": {},
   "outputs": [
    {
     "data": {
      "text/html": [
       "<div>\n",
       "<style scoped>\n",
       "    .dataframe tbody tr th:only-of-type {\n",
       "        vertical-align: middle;\n",
       "    }\n",
       "\n",
       "    .dataframe tbody tr th {\n",
       "        vertical-align: top;\n",
       "    }\n",
       "\n",
       "    .dataframe thead th {\n",
       "        text-align: right;\n",
       "    }\n",
       "</style>\n",
       "<table border=\"1\" class=\"dataframe\">\n",
       "  <thead>\n",
       "    <tr style=\"text-align: right;\">\n",
       "      <th></th>\n",
       "      <th>ETF Description</th>\n",
       "    </tr>\n",
       "    <tr>\n",
       "      <th>Symbol</th>\n",
       "      <th></th>\n",
       "    </tr>\n",
       "  </thead>\n",
       "  <tbody>\n",
       "    <tr>\n",
       "      <th>SPY</th>\n",
       "      <td>Domestic Equity SPDR S&amp;P500</td>\n",
       "    </tr>\n",
       "    <tr>\n",
       "      <th>EFA</th>\n",
       "      <td>Foreign Equity iShares EAFE</td>\n",
       "    </tr>\n",
       "    <tr>\n",
       "      <th>EEM</th>\n",
       "      <td>iShares Emerging Markets</td>\n",
       "    </tr>\n",
       "    <tr>\n",
       "      <th>PSP</th>\n",
       "      <td>Private Equity Invesco Global Private Equity</td>\n",
       "    </tr>\n",
       "    <tr>\n",
       "      <th>QAI</th>\n",
       "      <td>Absolute Return IQ Multi-Strat</td>\n",
       "    </tr>\n",
       "    <tr>\n",
       "      <th>HYG</th>\n",
       "      <td>High Yield iShares High Yield Corporate Bond</td>\n",
       "    </tr>\n",
       "    <tr>\n",
       "      <th>DBC</th>\n",
       "      <td>Invesco DB Commodity Index Tracking Fund</td>\n",
       "    </tr>\n",
       "    <tr>\n",
       "      <th>IYR</th>\n",
       "      <td>Real Estate iShares US Real Estate</td>\n",
       "    </tr>\n",
       "    <tr>\n",
       "      <th>IEF</th>\n",
       "      <td>Domestic Bonds iShares 7-10 Year Treasury</td>\n",
       "    </tr>\n",
       "    <tr>\n",
       "      <th>BWX</th>\n",
       "      <td>Foreign Bonds SPDR Bloomberg Barclay Internati...</td>\n",
       "    </tr>\n",
       "    <tr>\n",
       "      <th>TIP</th>\n",
       "      <td>Inflation-Indexed iShares TIPS Bond</td>\n",
       "    </tr>\n",
       "    <tr>\n",
       "      <th>SHV</th>\n",
       "      <td>iShares Short Treasury Bond</td>\n",
       "    </tr>\n",
       "  </tbody>\n",
       "</table>\n",
       "</div>"
      ],
      "text/plain": [
       "                                          ETF Description\n",
       "Symbol                                                   \n",
       "SPY                           Domestic Equity SPDR S&P500\n",
       "EFA                           Foreign Equity iShares EAFE\n",
       "EEM                              iShares Emerging Markets\n",
       "PSP          Private Equity Invesco Global Private Equity\n",
       "QAI                        Absolute Return IQ Multi-Strat\n",
       "HYG          High Yield iShares High Yield Corporate Bond\n",
       "DBC              Invesco DB Commodity Index Tracking Fund\n",
       "IYR                    Real Estate iShares US Real Estate\n",
       "IEF             Domestic Bonds iShares 7-10 Year Treasury\n",
       "BWX     Foreign Bonds SPDR Bloomberg Barclay Internati...\n",
       "TIP                   Inflation-Indexed iShares TIPS Bond\n",
       "SHV                           iShares Short Treasury Bond"
      ]
     },
     "execution_count": 3,
     "metadata": {},
     "output_type": "execute_result"
    }
   ],
   "source": [
    "info"
   ]
  },
  {
   "cell_type": "code",
   "execution_count": 4,
   "id": "1c2c9f86",
   "metadata": {},
   "outputs": [
    {
     "data": {
      "text/html": [
       "<div>\n",
       "<style scoped>\n",
       "    .dataframe tbody tr th:only-of-type {\n",
       "        vertical-align: middle;\n",
       "    }\n",
       "\n",
       "    .dataframe tbody tr th {\n",
       "        vertical-align: top;\n",
       "    }\n",
       "\n",
       "    .dataframe thead th {\n",
       "        text-align: right;\n",
       "    }\n",
       "</style>\n",
       "<table border=\"1\" class=\"dataframe\">\n",
       "  <thead>\n",
       "    <tr style=\"text-align: right;\">\n",
       "      <th></th>\n",
       "      <th>SPY</th>\n",
       "      <th>EFA</th>\n",
       "      <th>EEM</th>\n",
       "      <th>PSP</th>\n",
       "      <th>QAI</th>\n",
       "      <th>HYG</th>\n",
       "      <th>DBC</th>\n",
       "      <th>IYR</th>\n",
       "      <th>IEF</th>\n",
       "      <th>BWX</th>\n",
       "      <th>TIP</th>\n",
       "    </tr>\n",
       "    <tr>\n",
       "      <th>Date</th>\n",
       "      <th></th>\n",
       "      <th></th>\n",
       "      <th></th>\n",
       "      <th></th>\n",
       "      <th></th>\n",
       "      <th></th>\n",
       "      <th></th>\n",
       "      <th></th>\n",
       "      <th></th>\n",
       "      <th></th>\n",
       "      <th></th>\n",
       "    </tr>\n",
       "  </thead>\n",
       "  <tbody>\n",
       "    <tr>\n",
       "      <th>2009-04-30</th>\n",
       "      <td>0.0993</td>\n",
       "      <td>0.1152</td>\n",
       "      <td>0.1556</td>\n",
       "      <td>0.2302</td>\n",
       "      <td>0.0229</td>\n",
       "      <td>0.1385</td>\n",
       "      <td>-0.0010</td>\n",
       "      <td>0.2962</td>\n",
       "      <td>-0.0275</td>\n",
       "      <td>0.0090</td>\n",
       "      <td>-0.0180</td>\n",
       "    </tr>\n",
       "    <tr>\n",
       "      <th>2009-05-31</th>\n",
       "      <td>0.0585</td>\n",
       "      <td>0.1319</td>\n",
       "      <td>0.1594</td>\n",
       "      <td>0.0539</td>\n",
       "      <td>0.0279</td>\n",
       "      <td>0.0286</td>\n",
       "      <td>0.1627</td>\n",
       "      <td>0.0227</td>\n",
       "      <td>-0.0208</td>\n",
       "      <td>0.0537</td>\n",
       "      <td>0.0200</td>\n",
       "    </tr>\n",
       "    <tr>\n",
       "      <th>2009-06-30</th>\n",
       "      <td>-0.0007</td>\n",
       "      <td>-0.0140</td>\n",
       "      <td>-0.0225</td>\n",
       "      <td>0.0454</td>\n",
       "      <td>-0.0034</td>\n",
       "      <td>0.0335</td>\n",
       "      <td>-0.0263</td>\n",
       "      <td>-0.0249</td>\n",
       "      <td>-0.0056</td>\n",
       "      <td>0.0051</td>\n",
       "      <td>0.0020</td>\n",
       "    </tr>\n",
       "    <tr>\n",
       "      <th>2009-07-31</th>\n",
       "      <td>0.0746</td>\n",
       "      <td>0.1004</td>\n",
       "      <td>0.1101</td>\n",
       "      <td>0.1432</td>\n",
       "      <td>0.0153</td>\n",
       "      <td>0.0692</td>\n",
       "      <td>0.0186</td>\n",
       "      <td>0.1058</td>\n",
       "      <td>0.0083</td>\n",
       "      <td>0.0313</td>\n",
       "      <td>0.0009</td>\n",
       "    </tr>\n",
       "    <tr>\n",
       "      <th>2009-08-31</th>\n",
       "      <td>0.0369</td>\n",
       "      <td>0.0450</td>\n",
       "      <td>-0.0131</td>\n",
       "      <td>0.0334</td>\n",
       "      <td>-0.0042</td>\n",
       "      <td>-0.0170</td>\n",
       "      <td>-0.0404</td>\n",
       "      <td>0.1319</td>\n",
       "      <td>0.0076</td>\n",
       "      <td>0.0076</td>\n",
       "      <td>0.0084</td>\n",
       "    </tr>\n",
       "    <tr>\n",
       "      <th>...</th>\n",
       "      <td>...</td>\n",
       "      <td>...</td>\n",
       "      <td>...</td>\n",
       "      <td>...</td>\n",
       "      <td>...</td>\n",
       "      <td>...</td>\n",
       "      <td>...</td>\n",
       "      <td>...</td>\n",
       "      <td>...</td>\n",
       "      <td>...</td>\n",
       "      <td>...</td>\n",
       "    </tr>\n",
       "    <tr>\n",
       "      <th>2022-01-31</th>\n",
       "      <td>-0.0527</td>\n",
       "      <td>-0.0363</td>\n",
       "      <td>-0.0002</td>\n",
       "      <td>-0.0860</td>\n",
       "      <td>-0.0208</td>\n",
       "      <td>-0.0265</td>\n",
       "      <td>0.0789</td>\n",
       "      <td>-0.0823</td>\n",
       "      <td>-0.0211</td>\n",
       "      <td>-0.0262</td>\n",
       "      <td>-0.0206</td>\n",
       "    </tr>\n",
       "    <tr>\n",
       "      <th>2022-02-28</th>\n",
       "      <td>-0.0295</td>\n",
       "      <td>-0.0343</td>\n",
       "      <td>-0.0432</td>\n",
       "      <td>-0.0736</td>\n",
       "      <td>-0.0067</td>\n",
       "      <td>-0.0086</td>\n",
       "      <td>0.0647</td>\n",
       "      <td>-0.0459</td>\n",
       "      <td>-0.0030</td>\n",
       "      <td>-0.0112</td>\n",
       "      <td>0.0086</td>\n",
       "    </tr>\n",
       "    <tr>\n",
       "      <th>2022-03-31</th>\n",
       "      <td>0.0376</td>\n",
       "      <td>0.0052</td>\n",
       "      <td>-0.0338</td>\n",
       "      <td>-0.0077</td>\n",
       "      <td>-0.0026</td>\n",
       "      <td>-0.0129</td>\n",
       "      <td>0.0917</td>\n",
       "      <td>0.0686</td>\n",
       "      <td>-0.0406</td>\n",
       "      <td>-0.0422</td>\n",
       "      <td>-0.0188</td>\n",
       "    </tr>\n",
       "    <tr>\n",
       "      <th>2022-04-30</th>\n",
       "      <td>-0.0878</td>\n",
       "      <td>-0.0674</td>\n",
       "      <td>-0.0614</td>\n",
       "      <td>-0.1257</td>\n",
       "      <td>-0.0334</td>\n",
       "      <td>-0.0418</td>\n",
       "      <td>0.0564</td>\n",
       "      <td>-0.0413</td>\n",
       "      <td>-0.0423</td>\n",
       "      <td>-0.0697</td>\n",
       "      <td>-0.0218</td>\n",
       "    </tr>\n",
       "    <tr>\n",
       "      <th>2022-05-31</th>\n",
       "      <td>-0.0543</td>\n",
       "      <td>-0.0127</td>\n",
       "      <td>-0.0293</td>\n",
       "      <td>-0.0435</td>\n",
       "      <td>-0.0164</td>\n",
       "      <td>-0.0226</td>\n",
       "      <td>0.0156</td>\n",
       "      <td>-0.0855</td>\n",
       "      <td>0.0112</td>\n",
       "      <td>0.0005</td>\n",
       "      <td>-0.0128</td>\n",
       "    </tr>\n",
       "  </tbody>\n",
       "</table>\n",
       "<p>158 rows × 11 columns</p>\n",
       "</div>"
      ],
      "text/plain": [
       "               SPY     EFA     EEM     PSP     QAI     HYG     DBC     IYR  \\\n",
       "Date                                                                         \n",
       "2009-04-30  0.0993  0.1152  0.1556  0.2302  0.0229  0.1385 -0.0010  0.2962   \n",
       "2009-05-31  0.0585  0.1319  0.1594  0.0539  0.0279  0.0286  0.1627  0.0227   \n",
       "2009-06-30 -0.0007 -0.0140 -0.0225  0.0454 -0.0034  0.0335 -0.0263 -0.0249   \n",
       "2009-07-31  0.0746  0.1004  0.1101  0.1432  0.0153  0.0692  0.0186  0.1058   \n",
       "2009-08-31  0.0369  0.0450 -0.0131  0.0334 -0.0042 -0.0170 -0.0404  0.1319   \n",
       "...            ...     ...     ...     ...     ...     ...     ...     ...   \n",
       "2022-01-31 -0.0527 -0.0363 -0.0002 -0.0860 -0.0208 -0.0265  0.0789 -0.0823   \n",
       "2022-02-28 -0.0295 -0.0343 -0.0432 -0.0736 -0.0067 -0.0086  0.0647 -0.0459   \n",
       "2022-03-31  0.0376  0.0052 -0.0338 -0.0077 -0.0026 -0.0129  0.0917  0.0686   \n",
       "2022-04-30 -0.0878 -0.0674 -0.0614 -0.1257 -0.0334 -0.0418  0.0564 -0.0413   \n",
       "2022-05-31 -0.0543 -0.0127 -0.0293 -0.0435 -0.0164 -0.0226  0.0156 -0.0855   \n",
       "\n",
       "               IEF     BWX     TIP  \n",
       "Date                                \n",
       "2009-04-30 -0.0275  0.0090 -0.0180  \n",
       "2009-05-31 -0.0208  0.0537  0.0200  \n",
       "2009-06-30 -0.0056  0.0051  0.0020  \n",
       "2009-07-31  0.0083  0.0313  0.0009  \n",
       "2009-08-31  0.0076  0.0076  0.0084  \n",
       "...            ...     ...     ...  \n",
       "2022-01-31 -0.0211 -0.0262 -0.0206  \n",
       "2022-02-28 -0.0030 -0.0112  0.0086  \n",
       "2022-03-31 -0.0406 -0.0422 -0.0188  \n",
       "2022-04-30 -0.0423 -0.0697 -0.0218  \n",
       "2022-05-31  0.0112  0.0005 -0.0128  \n",
       "\n",
       "[158 rows x 11 columns]"
      ]
     },
     "execution_count": 4,
     "metadata": {},
     "output_type": "execute_result"
    }
   ],
   "source": [
    "rets"
   ]
  },
  {
   "cell_type": "code",
   "execution_count": 5,
   "id": "7e9ee685",
   "metadata": {},
   "outputs": [
    {
     "name": "stdout",
     "output_type": "stream",
     "text": [
      "MIN Correlation pair is ('IEF', 'DBC')\n",
      "MAX Correlation pair is ('EFA', 'PSP')\n"
     ]
    },
    {
     "data": {
      "image/png": "[encoded data removed]",
      "text/plain": [
       "<Figure size 864x432 with 2 Axes>"
      ]
     },
     "metadata": {
      "needs_background": "light"
     },
     "output_type": "display_data"
    }
   ],
   "source": [
    "corrmat = retsx.corr()\n",
    "#ignore self-correlation\n",
    "corrmat[corrmat==1] = None\n",
    "sns.heatmap(corrmat)\n",
    "\n",
    "corr_rank = corrmat.unstack().sort_values().dropna()\n",
    "pair_max = corr_rank.index[-1]\n",
    "pair_min = corr_rank.index[0]\n",
    "\n",
    "print(f'MIN Correlation pair is {pair_min}')\n",
    "print(f'MAX Correlation pair is {pair_max}')"
   ]
  },
  {
   "cell_type": "code",
   "execution_count": 32,
   "id": "5506597b",
   "metadata": {},
   "outputs": [
    {
     "data": {
      "text/html": [
       "<table class=\"simpletable\">\n",
       "<caption>OLS Regression Results</caption>\n",
       "<tr>\n",
       "  <th>Dep. Variable:</th>           <td>PSP</td>       <th>  R-squared:         </th> <td>   0.898</td>\n",
       "</tr>\n",
       "<tr>\n",
       "  <th>Model:</th>                   <td>OLS</td>       <th>  Adj. R-squared:    </th> <td>   0.891</td>\n",
       "</tr>\n",
       "<tr>\n",
       "  <th>Method:</th>             <td>Least Squares</td>  <th>  F-statistic:       </th> <td>   129.4</td>\n",
       "</tr>\n",
       "<tr>\n",
       "  <th>Date:</th>             <td>Mon, 15 Aug 2022</td> <th>  Prob (F-statistic):</th> <td>1.24e-67</td>\n",
       "</tr>\n",
       "<tr>\n",
       "  <th>Time:</th>                 <td>16:33:13</td>     <th>  Log-Likelihood:    </th> <td>  394.20</td>\n",
       "</tr>\n",
       "<tr>\n",
       "  <th>No. Observations:</th>      <td>   158</td>      <th>  AIC:               </th> <td>  -766.4</td>\n",
       "</tr>\n",
       "<tr>\n",
       "  <th>Df Residuals:</th>          <td>   147</td>      <th>  BIC:               </th> <td>  -732.7</td>\n",
       "</tr>\n",
       "<tr>\n",
       "  <th>Df Model:</th>              <td>    10</td>      <th>                     </th>     <td> </td>   \n",
       "</tr>\n",
       "<tr>\n",
       "  <th>Covariance Type:</th>      <td>nonrobust</td>    <th>                     </th>     <td> </td>   \n",
       "</tr>\n",
       "</table>\n",
       "<table class=\"simpletable\">\n",
       "<tr>\n",
       "    <td></td>       <th>coef</th>     <th>std err</th>      <th>t</th>      <th>P>|t|</th>  <th>[0.025</th>    <th>0.975]</th>  \n",
       "</tr>\n",
       "<tr>\n",
       "  <th>const</th> <td>   -0.0020</td> <td>    0.002</td> <td>   -1.043</td> <td> 0.299</td> <td>   -0.006</td> <td>    0.002</td>\n",
       "</tr>\n",
       "<tr>\n",
       "  <th>SPY</th>   <td>    0.4408</td> <td>    0.109</td> <td>    4.041</td> <td> 0.000</td> <td>    0.225</td> <td>    0.656</td>\n",
       "</tr>\n",
       "<tr>\n",
       "  <th>EFA</th>   <td>    0.5755</td> <td>    0.100</td> <td>    5.741</td> <td> 0.000</td> <td>    0.377</td> <td>    0.774</td>\n",
       "</tr>\n",
       "<tr>\n",
       "  <th>EEM</th>   <td>   -0.0213</td> <td>    0.066</td> <td>   -0.320</td> <td> 0.749</td> <td>   -0.153</td> <td>    0.110</td>\n",
       "</tr>\n",
       "<tr>\n",
       "  <th>QAI</th>   <td>    0.2511</td> <td>    0.299</td> <td>    0.840</td> <td> 0.402</td> <td>   -0.340</td> <td>    0.842</td>\n",
       "</tr>\n",
       "<tr>\n",
       "  <th>HYG</th>   <td>    0.5281</td> <td>    0.128</td> <td>    4.114</td> <td> 0.000</td> <td>    0.274</td> <td>    0.782</td>\n",
       "</tr>\n",
       "<tr>\n",
       "  <th>DBC</th>   <td>   -0.1185</td> <td>    0.046</td> <td>   -2.584</td> <td> 0.011</td> <td>   -0.209</td> <td>   -0.028</td>\n",
       "</tr>\n",
       "<tr>\n",
       "  <th>IYR</th>   <td>    0.0650</td> <td>    0.056</td> <td>    1.152</td> <td> 0.251</td> <td>   -0.047</td> <td>    0.177</td>\n",
       "</tr>\n",
       "<tr>\n",
       "  <th>IEF</th>   <td>   -0.4933</td> <td>    0.208</td> <td>   -2.366</td> <td> 0.019</td> <td>   -0.905</td> <td>   -0.081</td>\n",
       "</tr>\n",
       "<tr>\n",
       "  <th>BWX</th>   <td>    0.0469</td> <td>    0.132</td> <td>    0.355</td> <td> 0.723</td> <td>   -0.214</td> <td>    0.308</td>\n",
       "</tr>\n",
       "<tr>\n",
       "  <th>TIP</th>   <td>    0.3356</td> <td>    0.222</td> <td>    1.509</td> <td> 0.133</td> <td>   -0.104</td> <td>    0.775</td>\n",
       "</tr>\n",
       "</table>\n",
       "<table class=\"simpletable\">\n",
       "<tr>\n",
       "  <th>Omnibus:</th>       <td> 5.018</td> <th>  Durbin-Watson:     </th> <td>   2.055</td>\n",
       "</tr>\n",
       "<tr>\n",
       "  <th>Prob(Omnibus):</th> <td> 0.081</td> <th>  Jarque-Bera (JB):  </th> <td>   4.829</td>\n",
       "</tr>\n",
       "<tr>\n",
       "  <th>Skew:</th>          <td>-0.307</td> <th>  Prob(JB):          </th> <td>  0.0894</td>\n",
       "</tr>\n",
       "<tr>\n",
       "  <th>Kurtosis:</th>      <td> 3.598</td> <th>  Cond. No.          </th> <td>    190.</td>\n",
       "</tr>\n",
       "</table><br/><br/>Notes:<br/>[1] Standard Errors assume that the covariance matrix of the errors is correctly specified."
      ],
      "text/plain": [
       "<class 'statsmodels.iolib.summary.Summary'>\n",
       "\"\"\"\n",
       "                            OLS Regression Results                            \n",
       "==============================================================================\n",
       "Dep. Variable:                    PSP   R-squared:                       0.898\n",
       "Model:                            OLS   Adj. R-squared:                  0.891\n",
       "Method:                 Least Squares   F-statistic:                     129.4\n",
       "Date:                Mon, 15 Aug 2022   Prob (F-statistic):           1.24e-67\n",
       "Time:                        16:33:13   Log-Likelihood:                 394.20\n",
       "No. Observations:                 158   AIC:                            -766.4\n",
       "Df Residuals:                     147   BIC:                            -732.7\n",
       "Df Model:                          10                                         \n",
       "Covariance Type:            nonrobust                                         \n",
       "==============================================================================\n",
       "                 coef    std err          t      P>|t|      [0.025      0.975]\n",
       "------------------------------------------------------------------------------\n",
       "const         -0.0020      0.002     -1.043      0.299      -0.006       0.002\n",
       "SPY            0.4408      0.109      4.041      0.000       0.225       0.656\n",
       "EFA            0.5755      0.100      5.741      0.000       0.377       0.774\n",
       "EEM           -0.0213      0.066     -0.320      0.749      -0.153       0.110\n",
       "QAI            0.2511      0.299      0.840      0.402      -0.340       0.842\n",
       "HYG            0.5281      0.128      4.114      0.000       0.274       0.782\n",
       "DBC           -0.1185      0.046     -2.584      0.011      -0.209      -0.028\n",
       "IYR            0.0650      0.056      1.152      0.251      -0.047       0.177\n",
       "IEF           -0.4933      0.208     -2.366      0.019      -0.905      -0.081\n",
       "BWX            0.0469      0.132      0.355      0.723      -0.214       0.308\n",
       "TIP            0.3356      0.222      1.509      0.133      -0.104       0.775\n",
       "==============================================================================\n",
       "Omnibus:                        5.018   Durbin-Watson:                   2.055\n",
       "Prob(Omnibus):                  0.081   Jarque-Bera (JB):                4.829\n",
       "Skew:                          -0.307   Prob(JB):                       0.0894\n",
       "Kurtosis:                       3.598   Cond. No.                         190.\n",
       "==============================================================================\n",
       "\n",
       "Notes:\n",
       "[1] Standard Errors assume that the covariance matrix of the errors is correctly specified.\n",
       "\"\"\""
      ]
     },
     "execution_count": 32,
     "metadata": {},
     "output_type": "execute_result"
    }
   ],
   "source": [
    "y = rets['PSP']\n",
    "X_full = rets.drop(columns=['PSP'])\n",
    "X_simple = rets[['SPY','TIP','IEF']]\n",
    "\n",
    "\n",
    "X = sm.add_constant(X_full)\n",
    "\n",
    "mod = LinearRegression(fit_intercept=True).fit(X,y)\n",
    "mod1 = sm.OLS(y, X).fit()\n",
    "mod1.summary()\n",
    "\n",
    "#pe_replication = pd.DataFrame(index=X.columns, columns = ['beta'], data=mod.coef_)\n",
    "#pe_replication.T\n"
   ]
  },
  {
   "cell_type": "code",
   "execution_count": 7,
   "id": "3077c69c",
   "metadata": {},
   "outputs": [
    {
     "name": "stdout",
     "output_type": "stream",
     "text": [
      "Regression R-squared is 89.8%\n",
      "\n",
      "What is the correlation between the PE fund and the replicating portfolio?\n",
      "\n"
     ]
    }
   ],
   "source": [
    "print(f'Regression R-squared is {mod.score(X,y):.1%}\\n')\n",
    "print(f'What is the correlation between the PE fund and the replicating portfolio?\\n') ???What is PE fund"
   ]
  },
  {
   "cell_type": "code",
   "execution_count": 34,
   "id": "5dc75a5f",
   "metadata": {},
   "outputs": [
    {
     "data": {
      "image/png": "[encoded data removed]",
      "text/plain": [
       "<Figure size 864x432 with 1 Axes>"
      ]
     },
     "metadata": {
      "needs_background": "light"
     },
     "output_type": "display_data"
    }
   ],
   "source": [
    "rets_replicated = pd.concat([y, pd.DataFrame(data=mod.predict(X),index=X.index, columns=['replicated'])],axis=1)\n",
    "rets_replicated.plot(title='Replicating PE - Monthly Returns')\n",
    "plt.show()"
   ]
  },
  {
   "cell_type": "code",
   "execution_count": 38,
   "id": "546124f2",
   "metadata": {},
   "outputs": [
    {
     "data": {
      "image/png": "[encoded data removed]",
      "text/plain": [
       "<Figure size 864x432 with 1 Axes>"
      ]
     },
     "metadata": {
      "needs_background": "light"
     },
     "output_type": "display_data"
    }
   ],
   "source": [
    "(rets_replicated+1).cumprod().plot(title='Replicating PE - Cumulative Returns')\n",
    "plt.show()"
   ]
  },
  {
   "cell_type": "code",
   "execution_count": 40,
   "id": "16159314",
   "metadata": {},
   "outputs": [
    {
     "name": "stdout",
     "output_type": "stream",
     "text": [
      "Index(['SPY', 'TIP', 'IEF'], dtype='object')\n"
     ]
    },
    {
     "data": {
      "text/html": [
       "<div>\n",
       "<style scoped>\n",
       "    .dataframe tbody tr th:only-of-type {\n",
       "        vertical-align: middle;\n",
       "    }\n",
       "\n",
       "    .dataframe tbody tr th {\n",
       "        vertical-align: top;\n",
       "    }\n",
       "\n",
       "    .dataframe thead th {\n",
       "        text-align: right;\n",
       "    }\n",
       "</style>\n",
       "<table border=\"1\" class=\"dataframe\">\n",
       "  <thead>\n",
       "    <tr style=\"text-align: right;\">\n",
       "      <th></th>\n",
       "      <th>SPY</th>\n",
       "      <th>TIP</th>\n",
       "      <th>IEF</th>\n",
       "    </tr>\n",
       "  </thead>\n",
       "  <tbody>\n",
       "    <tr>\n",
       "      <th>beta</th>\n",
       "      <td>1.2816</td>\n",
       "      <td>0.6009</td>\n",
       "      <td>-0.4125</td>\n",
       "    </tr>\n",
       "  </tbody>\n",
       "</table>\n",
       "</div>"
      ],
      "text/plain": [
       "        SPY    TIP     IEF\n",
       "beta 1.2816 0.6009 -0.4125"
      ]
     },
     "execution_count": 40,
     "metadata": {},
     "output_type": "execute_result"
    }
   ],
   "source": [
    "X = X_simple\n",
    "mod = LinearRegression(fit_intercept=True).fit(X,y)\n",
    "print(X.columns)\n",
    "\n",
    "pe_replication = pd.DataFrame(index=X.columns, columns = ['beta'], data=mod.coef_)\n",
    "pe_replication.T"
   ]
  },
  {
   "cell_type": "code",
   "execution_count": 11,
   "id": "603ba3ed",
   "metadata": {},
   "outputs": [
    {
     "name": "stdout",
     "output_type": "stream",
     "text": [
      "Regression R-squared is 81.2%\n",
      "\n",
      "What is the correlation between the PE fund and the replicating portfolio?\n",
      "\n"
     ]
    }
   ],
   "source": [
    "print(f'Regression R-squared is {mod.score(X,y):.1%}\\n')\n",
    "print(f'What is the correlation between the PE fund and the replicating portfolio?\\n') ?????????"
   ]
  },
  {
   "cell_type": "code",
   "execution_count": 12,
   "id": "899e01e8",
   "metadata": {},
   "outputs": [
    {
     "data": {
      "image/png": "[encoded data removed]",
      "text/plain": [
       "<Figure size 864x432 with 1 Axes>"
      ]
     },
     "metadata": {
      "needs_background": "light"
     },
     "output_type": "display_data"
    }
   ],
   "source": [
    "rets_replicated = pd.concat([y, pd.DataFrame(data=mod.predict(X),index=X.index, columns=['replicated'])],axis=1)\n",
    "(rets_replicated+1).cumprod().plot(title='Replicating PE - Cumulative Returns')\n",
    "plt.show()"
   ]
  },
  {
   "cell_type": "code",
   "execution_count": 13,
   "id": "864d2f94",
   "metadata": {},
   "outputs": [
    {
     "name": "stdout",
     "output_type": "stream",
     "text": [
      "Condition Number FULL replication: 328.9\n",
      "\n",
      "Condition Number SIMPLE replication: 40.0\n"
     ]
    }
   ],
   "source": [
    "print(f'Condition Number FULL replication: {np.linalg.cond(X_full.T@ X_full):.1f}\\n') ????????What is condition number\n",
    "print(f'Condition Number SIMPLE replication: {np.linalg.cond(X_simple.T@ X_simple):.1f}')"
   ]
  },
  {
   "cell_type": "code",
   "execution_count": 14,
   "id": "9dd28417",
   "metadata": {},
   "outputs": [
    {
     "name": "stdout",
     "output_type": "stream",
     "text": [
      "Determinant FULL replication: 0.000000\n",
      "\n",
      "Determinant SIMPLE replication: 0.000139\n"
     ]
    }
   ],
   "source": [
    "print(f'Determinant FULL replication: {np.linalg.det(X_full.T@ X_full):.6f}\\n')\n",
    "\n",
    "print(f'Determinant SIMPLE replication: {np.linalg.det(X_simple.T@ X_simple):.6f}')"
   ]
  },
  {
   "cell_type": "markdown",
   "id": "895fa451",
   "metadata": {},
   "source": [
    "# <span style='color:red'>Solution 2</span>"
   ]
  },
  {
   "cell_type": "code",
   "execution_count": 15,
   "id": "451ccfab",
   "metadata": {},
   "outputs": [],
   "source": [
    "SPYFILE = '../data/spy_rate_data.xlsx'\n",
    "data = pd.read_excel(SPYFILE).rename(columns={'Unnamed: 0':'date'}).set_index('date')"
   ]
  },
  {
   "cell_type": "markdown",
   "id": "416f1674",
   "metadata": {},
   "source": [
    "## 2.1-2.2"
   ]
  },
  {
   "cell_type": "code",
   "execution_count": 16,
   "id": "e3451e29",
   "metadata": {
    "ExecuteTime": {
     "end_time": "2021-06-24T01:37:08.839179Z",
     "start_time": "2021-06-24T01:37:08.828711Z"
    }
   },
   "outputs": [
    {
     "data": {
      "text/html": [
       "<table class=\"simpletable\">\n",
       "<caption>OLS Regression Results</caption>\n",
       "<tr>\n",
       "  <th>Dep. Variable:</th>      <td>SPY US Equity</td>  <th>  R-squared:         </th> <td>   0.036</td>\n",
       "</tr>\n",
       "<tr>\n",
       "  <th>Model:</th>                   <td>OLS</td>       <th>  Adj. R-squared:    </th> <td>   0.028</td>\n",
       "</tr>\n",
       "<tr>\n",
       "  <th>Method:</th>             <td>Least Squares</td>  <th>  F-statistic:       </th> <td>   4.465</td>\n",
       "</tr>\n",
       "<tr>\n",
       "  <th>Date:</th>             <td>Mon, 15 Aug 2022</td> <th>  Prob (F-statistic):</th>  <td>0.0125</td> \n",
       "</tr>\n",
       "<tr>\n",
       "  <th>Time:</th>                 <td>10:16:39</td>     <th>  Log-Likelihood:    </th> <td>  423.48</td>\n",
       "</tr>\n",
       "<tr>\n",
       "  <th>No. Observations:</th>      <td>   239</td>      <th>  AIC:               </th> <td>  -841.0</td>\n",
       "</tr>\n",
       "<tr>\n",
       "  <th>Df Residuals:</th>          <td>   236</td>      <th>  BIC:               </th> <td>  -830.5</td>\n",
       "</tr>\n",
       "<tr>\n",
       "  <th>Df Model:</th>              <td>     2</td>      <th>                     </th>     <td> </td>   \n",
       "</tr>\n",
       "<tr>\n",
       "  <th>Covariance Type:</th>      <td>nonrobust</td>    <th>                     </th>     <td> </td>   \n",
       "</tr>\n",
       "</table>\n",
       "<table class=\"simpletable\">\n",
       "<tr>\n",
       "         <td></td>            <th>coef</th>     <th>std err</th>      <th>t</th>      <th>P>|t|</th>  <th>[0.025</th>    <th>0.975]</th>  \n",
       "</tr>\n",
       "<tr>\n",
       "  <th>const</th>           <td>    0.0741</td> <td>    0.023</td> <td>    3.191</td> <td> 0.002</td> <td>    0.028</td> <td>    0.120</td>\n",
       "</tr>\n",
       "<tr>\n",
       "  <th>10-yr Yields</th>    <td>   -0.7707</td> <td>    0.280</td> <td>   -2.754</td> <td> 0.006</td> <td>   -1.322</td> <td>   -0.219</td>\n",
       "</tr>\n",
       "<tr>\n",
       "  <th>Dvd-Price Ratio</th> <td>   -2.2646</td> <td>    0.849</td> <td>   -2.669</td> <td> 0.008</td> <td>   -3.936</td> <td>   -0.593</td>\n",
       "</tr>\n",
       "</table>\n",
       "<table class=\"simpletable\">\n",
       "<tr>\n",
       "  <th>Omnibus:</th>       <td> 6.566</td> <th>  Durbin-Watson:     </th> <td>   1.887</td>\n",
       "</tr>\n",
       "<tr>\n",
       "  <th>Prob(Omnibus):</th> <td> 0.038</td> <th>  Jarque-Bera (JB):  </th> <td>   6.427</td>\n",
       "</tr>\n",
       "<tr>\n",
       "  <th>Skew:</th>          <td>-0.333</td> <th>  Prob(JB):          </th> <td>  0.0402</td>\n",
       "</tr>\n",
       "<tr>\n",
       "  <th>Kurtosis:</th>      <td> 3.448</td> <th>  Cond. No.          </th> <td>    325.</td>\n",
       "</tr>\n",
       "</table><br/><br/>Notes:<br/>[1] Standard Errors assume that the covariance matrix of the errors is correctly specified."
      ],
      "text/plain": [
       "<class 'statsmodels.iolib.summary.Summary'>\n",
       "\"\"\"\n",
       "                            OLS Regression Results                            \n",
       "==============================================================================\n",
       "Dep. Variable:          SPY US Equity   R-squared:                       0.036\n",
       "Model:                            OLS   Adj. R-squared:                  0.028\n",
       "Method:                 Least Squares   F-statistic:                     4.465\n",
       "Date:                Mon, 15 Aug 2022   Prob (F-statistic):             0.0125\n",
       "Time:                        10:16:39   Log-Likelihood:                 423.48\n",
       "No. Observations:                 239   AIC:                            -841.0\n",
       "Df Residuals:                     236   BIC:                            -830.5\n",
       "Df Model:                           2                                         \n",
       "Covariance Type:            nonrobust                                         \n",
       "===================================================================================\n",
       "                      coef    std err          t      P>|t|      [0.025      0.975]\n",
       "-----------------------------------------------------------------------------------\n",
       "const               0.0741      0.023      3.191      0.002       0.028       0.120\n",
       "10-yr Yields       -0.7707      0.280     -2.754      0.006      -1.322      -0.219\n",
       "Dvd-Price Ratio    -2.2646      0.849     -2.669      0.008      -3.936      -0.593\n",
       "==============================================================================\n",
       "Omnibus:                        6.566   Durbin-Watson:                   1.887\n",
       "Prob(Omnibus):                  0.038   Jarque-Bera (JB):                6.427\n",
       "Skew:                          -0.333   Prob(JB):                       0.0402\n",
       "Kurtosis:                       3.448   Cond. No.                         325.\n",
       "==============================================================================\n",
       "\n",
       "Notes:\n",
       "[1] Standard Errors assume that the covariance matrix of the errors is correctly specified.\n",
       "\"\"\""
      ]
     },
     "execution_count": 16,
     "metadata": {},
     "output_type": "execute_result"
    }
   ],
   "source": [
    "X = sm.add_constant(data[[\"10-yr Yields\", \"Dvd-Price Ratio\"]])\n",
    "y = data[\"SPY US Equity\"]\n",
    "mod = sm.OLS(y, X).fit()\n",
    "mod.summary()"
   ]
  },
  {
   "cell_type": "markdown",
   "id": "16fb879f",
   "metadata": {},
   "source": [
    "With t-ratios of -2.754 and -2.669, both regressors are statistically significant."
   ]
  },
  {
   "cell_type": "markdown",
   "id": "fb1a888b",
   "metadata": {},
   "source": [
    "## 2.3"
   ]
  },
  {
   "cell_type": "code",
   "execution_count": 17,
   "id": "bbb9ee68",
   "metadata": {
    "ExecuteTime": {
     "end_time": "2021-06-24T01:37:08.842633Z",
     "start_time": "2021-06-24T01:37:08.839914Z"
    }
   },
   "outputs": [
    {
     "name": "stdout",
     "output_type": "stream",
     "text": [
      "Serial correlation of residuals is 5.09%.\n"
     ]
    }
   ],
   "source": [
    "e = mod.resid\n",
    "rho = e.corr(e.shift(1))\n",
    "\n",
    "print(f'Serial correlation of residuals is {rho:.2%}.')"
   ]
  },
  {
   "cell_type": "markdown",
   "id": "76fe594c",
   "metadata": {},
   "source": [
    "## 2.4"
   ]
  },
  {
   "cell_type": "code",
   "execution_count": 18,
   "id": "259d205f",
   "metadata": {
    "ExecuteTime": {
     "end_time": "2021-06-24T01:37:08.852753Z",
     "start_time": "2021-06-24T01:37:08.843387Z"
    }
   },
   "outputs": [
    {
     "data": {
      "text/html": [
       "<table class=\"simpletable\">\n",
       "<caption>OLS Regression Results</caption>\n",
       "<tr>\n",
       "  <th>Dep. Variable:</th>            <td>y</td>        <th>  R-squared:         </th> <td>   0.065</td>\n",
       "</tr>\n",
       "<tr>\n",
       "  <th>Model:</th>                   <td>OLS</td>       <th>  Adj. R-squared:    </th> <td>   0.057</td>\n",
       "</tr>\n",
       "<tr>\n",
       "  <th>Method:</th>             <td>Least Squares</td>  <th>  F-statistic:       </th> <td>   8.172</td>\n",
       "</tr>\n",
       "<tr>\n",
       "  <th>Date:</th>             <td>Mon, 15 Aug 2022</td> <th>  Prob (F-statistic):</th> <td>0.000370</td>\n",
       "</tr>\n",
       "<tr>\n",
       "  <th>Time:</th>                 <td>10:16:40</td>     <th>  Log-Likelihood:    </th> <td>  1087.1</td>\n",
       "</tr>\n",
       "<tr>\n",
       "  <th>No. Observations:</th>      <td>   239</td>      <th>  AIC:               </th> <td>  -2168.</td>\n",
       "</tr>\n",
       "<tr>\n",
       "  <th>Df Residuals:</th>          <td>   236</td>      <th>  BIC:               </th> <td>  -2158.</td>\n",
       "</tr>\n",
       "<tr>\n",
       "  <th>Df Model:</th>              <td>     2</td>      <th>                     </th>     <td> </td>   \n",
       "</tr>\n",
       "<tr>\n",
       "  <th>Covariance Type:</th>      <td>nonrobust</td>    <th>                     </th>     <td> </td>   \n",
       "</tr>\n",
       "</table>\n",
       "<table class=\"simpletable\">\n",
       "<tr>\n",
       "         <td></td>            <th>coef</th>     <th>std err</th>      <th>t</th>      <th>P>|t|</th>  <th>[0.025</th>    <th>0.975]</th>  \n",
       "</tr>\n",
       "<tr>\n",
       "  <th>const</th>           <td>   -0.0041</td> <td>    0.001</td> <td>   -2.840</td> <td> 0.005</td> <td>   -0.007</td> <td>   -0.001</td>\n",
       "</tr>\n",
       "<tr>\n",
       "  <th>10-yr Yields</th>    <td>    0.0586</td> <td>    0.017</td> <td>    3.367</td> <td> 0.001</td> <td>    0.024</td> <td>    0.093</td>\n",
       "</tr>\n",
       "<tr>\n",
       "  <th>Dvd-Price Ratio</th> <td>    0.2053</td> <td>    0.053</td> <td>    3.887</td> <td> 0.000</td> <td>    0.101</td> <td>    0.309</td>\n",
       "</tr>\n",
       "</table>\n",
       "<table class=\"simpletable\">\n",
       "<tr>\n",
       "  <th>Omnibus:</th>       <td>150.121</td> <th>  Durbin-Watson:     </th> <td>   1.572</td> \n",
       "</tr>\n",
       "<tr>\n",
       "  <th>Prob(Omnibus):</th> <td> 0.000</td>  <th>  Jarque-Bera (JB):  </th> <td>1029.503</td> \n",
       "</tr>\n",
       "<tr>\n",
       "  <th>Skew:</th>          <td> 2.511</td>  <th>  Prob(JB):          </th> <td>2.79e-224</td>\n",
       "</tr>\n",
       "<tr>\n",
       "  <th>Kurtosis:</th>      <td>11.841</td>  <th>  Cond. No.          </th> <td>    325.</td> \n",
       "</tr>\n",
       "</table><br/><br/>Notes:<br/>[1] Standard Errors assume that the covariance matrix of the errors is correctly specified."
      ],
      "text/plain": [
       "<class 'statsmodels.iolib.summary.Summary'>\n",
       "\"\"\"\n",
       "                            OLS Regression Results                            \n",
       "==============================================================================\n",
       "Dep. Variable:                      y   R-squared:                       0.065\n",
       "Model:                            OLS   Adj. R-squared:                  0.057\n",
       "Method:                 Least Squares   F-statistic:                     8.172\n",
       "Date:                Mon, 15 Aug 2022   Prob (F-statistic):           0.000370\n",
       "Time:                        10:16:40   Log-Likelihood:                 1087.1\n",
       "No. Observations:                 239   AIC:                            -2168.\n",
       "Df Residuals:                     236   BIC:                            -2158.\n",
       "Df Model:                           2                                         \n",
       "Covariance Type:            nonrobust                                         \n",
       "===================================================================================\n",
       "                      coef    std err          t      P>|t|      [0.025      0.975]\n",
       "-----------------------------------------------------------------------------------\n",
       "const              -0.0041      0.001     -2.840      0.005      -0.007      -0.001\n",
       "10-yr Yields        0.0586      0.017      3.367      0.001       0.024       0.093\n",
       "Dvd-Price Ratio     0.2053      0.053      3.887      0.000       0.101       0.309\n",
       "==============================================================================\n",
       "Omnibus:                      150.121   Durbin-Watson:                   1.572\n",
       "Prob(Omnibus):                  0.000   Jarque-Bera (JB):             1029.503\n",
       "Skew:                           2.511   Prob(JB):                    2.79e-224\n",
       "Kurtosis:                      11.841   Cond. No.                         325.\n",
       "==============================================================================\n",
       "\n",
       "Notes:\n",
       "[1] Standard Errors assume that the covariance matrix of the errors is correctly specified.\n",
       "\"\"\""
      ]
     },
     "execution_count": 18,
     "metadata": {},
     "output_type": "execute_result"
    }
   ],
   "source": [
    "mod_resids = sm.OLS(e**2, X).fit()\n",
    "mod_resids.summary()"
   ]
  },
  {
   "cell_type": "markdown",
   "id": "447d8934",
   "metadata": {},
   "source": [
    "## 2.5"
   ]
  },
  {
   "cell_type": "markdown",
   "id": "9541c078",
   "metadata": {},
   "source": [
    "The regression of sample residuals (squared) is giving us information as to whether the residual variance is always the same distribution, (homoskedastic,) or whether it varies with different conditioning info, $X$, (heteroskedastic.) \n",
    "\n",
    "Thus, if any of the betas are significant, it tells us that the residuals are heteroskedastic."
   ]
  }
 ],
 "metadata": {
  "hide_input": false,
  "kernelspec": {
   "display_name": "Python 3.9.12 ('base')",
   "language": "python",
   "name": "python3"
  },
  "language_info": {
   "codemirror_mode": {
    "name": "ipython",
    "version": 3
   },
   "file_extension": ".py",
   "mimetype": "text/x-python",
   "name": "python",
   "nbconvert_exporter": "python",
   "pygments_lexer": "ipython3",
   "version": "3.9.12"
  },
  "vscode": {
   "interpreter": {
    "hash": "a71391375be2dac210dad05811dc4f7c8d6999b7d96e27484516d89849182552"
   }
  }
 },
 "nbformat": 4,
 "nbformat_minor": 5
}
