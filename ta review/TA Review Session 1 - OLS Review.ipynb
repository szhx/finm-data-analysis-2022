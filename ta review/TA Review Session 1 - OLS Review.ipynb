{
 "cells": [
  {
   "cell_type": "markdown",
   "id": "784092e9",
   "metadata": {},
   "source": [
    "# TA Review Session\n",
    "## Linear Algebra, Regression and Data Analysis in Python\n",
    "### FINM September Launch\n",
    "\n",
    "Maneet Singh - TA\n",
    "\n",
    "maneetsingh@uchicago.edu"
   ]
  },
  {
   "cell_type": "markdown",
   "id": "43526ba6",
   "metadata": {},
   "source": [
    "## OLS Review"
   ]
  },
  {
   "cell_type": "markdown",
   "id": "b498e521",
   "metadata": {},
   "source": [
    "- Most problems in finance can be defined as a linear function of certain variables\n",
    "\n",
    "\n",
    "- Ordinary Least Squares or OLS models are the most commonly used methods to identify these linear relationships\n",
    "\n",
    "\n",
    "- Gauss-Markov Theorem allows the use of OLS in various problems even if some of the assumptions of theorem do not hold in the sample\n",
    "\n",
    "\n",
    "<br>\n",
    "\n",
    "**OLS Model Review**\n",
    "\n",
    "Let $Y$ be a variable dependent on a set of variables $X$ such that the following linear relationship holds in the population:\n",
    "\n",
    "$$\n",
    "Y = X'\\beta + \\epsilon\n",
    "$$\n",
    "\n",
    "From an observed sample of data $y$ and $x$, we estimate the following:\n",
    "\n",
    "$$\n",
    "y = x'b + e\n",
    "$$\n",
    "\n",
    "where $b$ is given by:\n",
    "\n",
    "$$\n",
    "b = (x'x)^{-1}x'y\n",
    "$$\n",
    "\n",
    "\n",
    "As sample size $\\rightarrow \\infty$, $b \\rightarrow \\beta$ if the classical assumptions of OLS hold true. (by which property?)\n",
    "\n",
    "<br>\n",
    "\n",
    "**Note**: For the fitted values, $\\hat{y} = x'b = x'(x'x)^{-1}x'y$\n",
    "\n",
    "- OLS regression is also defined as the projection of $y$ $(\\hat{y})$ on the vector space spanned by $x$.\n",
    "- $x'(x'x)^{-1}x'$ is often refered to as the *projection matrix* as it projects any variable onto the vector space spanned by $x$.\n",
    "\n",
    "\n",
    "\n",
    "<br>\n",
    "\n",
    "Today, we will discuss:\n",
    "\n",
    "\n",
    "- How to develop a regression model in python using statsmodels and scikit-learn\n",
    "\n",
    "\n",
    "- Classical Assumptions of OLS\n",
    "\n",
    "\n",
    "- Statistical tests for these assumptions\n",
    "\n",
    "<br>\n",
    "\n",
    "**Data**\n",
    "\n",
    "This problem utilizes the data in *../data/multi_asset_etf_data.xlsx*\n",
    "\n",
    "- Return data on various asset classes\n",
    "\n",
    "- This data comes via ETFs, which will be discussed in the Markets series\n",
    "\n",
    "The dataset can be found here: https://github.com/MarkHendricks/finm-data-analysis-2022/blob/main/data/multi_asset_etf_data.xlsx\n"
   ]
  },
  {
   "cell_type": "markdown",
   "id": "bb70ebbd",
   "metadata": {},
   "source": [
    "### 1. Constructing an OLS model and Classical Inference"
   ]
  },
  {
   "cell_type": "code",
   "execution_count": 16,
   "id": "8991f260",
   "metadata": {
    "scrolled": true
   },
   "outputs": [
    {
     "data": {
      "text/html": [
       "<div>\n",
       "<style scoped>\n",
       "    .dataframe tbody tr th:only-of-type {\n",
       "        vertical-align: middle;\n",
       "    }\n",
       "\n",
       "    .dataframe tbody tr th {\n",
       "        vertical-align: top;\n",
       "    }\n",
       "\n",
       "    .dataframe thead th {\n",
       "        text-align: right;\n",
       "    }\n",
       "</style>\n",
       "<table border=\"1\" class=\"dataframe\">\n",
       "  <thead>\n",
       "    <tr style=\"text-align: right;\">\n",
       "      <th></th>\n",
       "      <th>BWX</th>\n",
       "      <th>DBC</th>\n",
       "      <th>EEM</th>\n",
       "      <th>EFA</th>\n",
       "      <th>HYG</th>\n",
       "      <th>IEF</th>\n",
       "      <th>IYR</th>\n",
       "      <th>PSP</th>\n",
       "      <th>QAI</th>\n",
       "      <th>SPY</th>\n",
       "      <th>TIP</th>\n",
       "    </tr>\n",
       "    <tr>\n",
       "      <th>Date</th>\n",
       "      <th></th>\n",
       "      <th></th>\n",
       "      <th></th>\n",
       "      <th></th>\n",
       "      <th></th>\n",
       "      <th></th>\n",
       "      <th></th>\n",
       "      <th></th>\n",
       "      <th></th>\n",
       "      <th></th>\n",
       "      <th></th>\n",
       "    </tr>\n",
       "  </thead>\n",
       "  <tbody>\n",
       "    <tr>\n",
       "      <th>2009-04-30</th>\n",
       "      <td>0.008440</td>\n",
       "      <td>-0.001553</td>\n",
       "      <td>0.155029</td>\n",
       "      <td>0.114637</td>\n",
       "      <td>0.137907</td>\n",
       "      <td>-0.028005</td>\n",
       "      <td>0.295598</td>\n",
       "      <td>0.229649</td>\n",
       "      <td>0.022329</td>\n",
       "      <td>0.098793</td>\n",
       "      <td>-0.018504</td>\n",
       "    </tr>\n",
       "    <tr>\n",
       "      <th>2009-05-31</th>\n",
       "      <td>0.054144</td>\n",
       "      <td>0.163134</td>\n",
       "      <td>0.159872</td>\n",
       "      <td>0.132390</td>\n",
       "      <td>0.029027</td>\n",
       "      <td>-0.020301</td>\n",
       "      <td>0.023199</td>\n",
       "      <td>0.054364</td>\n",
       "      <td>0.028337</td>\n",
       "      <td>0.058925</td>\n",
       "      <td>0.020438</td>\n",
       "    </tr>\n",
       "    <tr>\n",
       "      <th>2009-06-30</th>\n",
       "      <td>0.004549</td>\n",
       "      <td>-0.026858</td>\n",
       "      <td>-0.023094</td>\n",
       "      <td>-0.014649</td>\n",
       "      <td>0.032918</td>\n",
       "      <td>-0.006171</td>\n",
       "      <td>-0.025462</td>\n",
       "      <td>0.044849</td>\n",
       "      <td>-0.004036</td>\n",
       "      <td>-0.001255</td>\n",
       "      <td>0.001383</td>\n",
       "    </tr>\n",
       "    <tr>\n",
       "      <th>2009-07-31</th>\n",
       "      <td>0.031312</td>\n",
       "      <td>0.018595</td>\n",
       "      <td>0.110173</td>\n",
       "      <td>0.100443</td>\n",
       "      <td>0.069218</td>\n",
       "      <td>0.008344</td>\n",
       "      <td>0.105827</td>\n",
       "      <td>0.143274</td>\n",
       "      <td>0.015353</td>\n",
       "      <td>0.074633</td>\n",
       "      <td>0.000907</td>\n",
       "    </tr>\n",
       "    <tr>\n",
       "      <th>2009-08-31</th>\n",
       "      <td>0.007192</td>\n",
       "      <td>-0.040800</td>\n",
       "      <td>-0.013572</td>\n",
       "      <td>0.044595</td>\n",
       "      <td>-0.017405</td>\n",
       "      <td>0.007198</td>\n",
       "      <td>0.131503</td>\n",
       "      <td>0.032977</td>\n",
       "      <td>-0.004587</td>\n",
       "      <td>0.036504</td>\n",
       "      <td>0.007977</td>\n",
       "    </tr>\n",
       "  </tbody>\n",
       "</table>\n",
       "</div>"
      ],
      "text/plain": [
       "                 BWX       DBC       EEM       EFA       HYG       IEF  \\\n",
       "Date                                                                     \n",
       "2009-04-30  0.008440 -0.001553  0.155029  0.114637  0.137907 -0.028005   \n",
       "2009-05-31  0.054144  0.163134  0.159872  0.132390  0.029027 -0.020301   \n",
       "2009-06-30  0.004549 -0.026858 -0.023094 -0.014649  0.032918 -0.006171   \n",
       "2009-07-31  0.031312  0.018595  0.110173  0.100443  0.069218  0.008344   \n",
       "2009-08-31  0.007192 -0.040800 -0.013572  0.044595 -0.017405  0.007198   \n",
       "\n",
       "                 IYR       PSP       QAI       SPY       TIP  \n",
       "Date                                                          \n",
       "2009-04-30  0.295598  0.229649  0.022329  0.098793 -0.018504  \n",
       "2009-05-31  0.023199  0.054364  0.028337  0.058925  0.020438  \n",
       "2009-06-30 -0.025462  0.044849 -0.004036 -0.001255  0.001383  \n",
       "2009-07-31  0.105827  0.143274  0.015353  0.074633  0.000907  \n",
       "2009-08-31  0.131503  0.032977 -0.004587  0.036504  0.007977  "
      ]
     },
     "metadata": {},
     "output_type": "display_data"
    }
   ],
   "source": [
    "## Start by importing the libraries and the dataset in the notebook\n",
    "\n",
    "import pandas as pd\n",
    "import numpy as np\n",
    "import statsmodels.api as sm\n",
    "from sklearn.linear_model import LinearRegression\n",
    "import matplotlib.pyplot as plt\n",
    "import seaborn as sns\n",
    "\n",
    "data = pd.read_excel('multi_asset_etf_data.xlsx', sheet_name=2).set_index('Date')\n",
    "data.index = pd.to_datetime(data.index)\n",
    "display(data.head())"
   ]
  },
  {
   "cell_type": "markdown",
   "id": "fb424a71",
   "metadata": {},
   "source": [
    "Let's construct the following model, as we do in HW2:\n",
    "\n",
    "$$\n",
    "r^{SPY}_t = \\alpha + \\sum^{k}_{i=1}\\beta^i r^i_t + \\epsilon_t\n",
    "$$"
   ]
  },
  {
   "cell_type": "code",
   "execution_count": 14,
   "id": "15e235ce",
   "metadata": {
    "scrolled": false
   },
   "outputs": [
    {
     "data": {
      "text/html": [
       "<div>\n",
       "<style scoped>\n",
       "    .dataframe tbody tr th:only-of-type {\n",
       "        vertical-align: middle;\n",
       "    }\n",
       "\n",
       "    .dataframe tbody tr th {\n",
       "        vertical-align: top;\n",
       "    }\n",
       "\n",
       "    .dataframe thead th {\n",
       "        text-align: right;\n",
       "    }\n",
       "</style>\n",
       "<table border=\"1\" class=\"dataframe\">\n",
       "  <thead>\n",
       "    <tr style=\"text-align: right;\">\n",
       "      <th></th>\n",
       "      <th>const</th>\n",
       "      <th>BWX</th>\n",
       "      <th>DBC</th>\n",
       "      <th>EEM</th>\n",
       "      <th>EFA</th>\n",
       "      <th>HYG</th>\n",
       "      <th>IEF</th>\n",
       "      <th>IYR</th>\n",
       "      <th>PSP</th>\n",
       "      <th>QAI</th>\n",
       "      <th>TIP</th>\n",
       "    </tr>\n",
       "    <tr>\n",
       "      <th>Date</th>\n",
       "      <th></th>\n",
       "      <th></th>\n",
       "      <th></th>\n",
       "      <th></th>\n",
       "      <th></th>\n",
       "      <th></th>\n",
       "      <th></th>\n",
       "      <th></th>\n",
       "      <th></th>\n",
       "      <th></th>\n",
       "      <th></th>\n",
       "    </tr>\n",
       "  </thead>\n",
       "  <tbody>\n",
       "    <tr>\n",
       "      <th>2009-04-30</th>\n",
       "      <td>1.0</td>\n",
       "      <td>0.008440</td>\n",
       "      <td>-0.001553</td>\n",
       "      <td>0.155029</td>\n",
       "      <td>0.114637</td>\n",
       "      <td>0.137907</td>\n",
       "      <td>-0.028005</td>\n",
       "      <td>0.295598</td>\n",
       "      <td>0.229649</td>\n",
       "      <td>0.022329</td>\n",
       "      <td>-0.018504</td>\n",
       "    </tr>\n",
       "    <tr>\n",
       "      <th>2009-05-31</th>\n",
       "      <td>1.0</td>\n",
       "      <td>0.054144</td>\n",
       "      <td>0.163134</td>\n",
       "      <td>0.159872</td>\n",
       "      <td>0.132390</td>\n",
       "      <td>0.029027</td>\n",
       "      <td>-0.020301</td>\n",
       "      <td>0.023199</td>\n",
       "      <td>0.054364</td>\n",
       "      <td>0.028337</td>\n",
       "      <td>0.020438</td>\n",
       "    </tr>\n",
       "    <tr>\n",
       "      <th>2009-06-30</th>\n",
       "      <td>1.0</td>\n",
       "      <td>0.004549</td>\n",
       "      <td>-0.026858</td>\n",
       "      <td>-0.023094</td>\n",
       "      <td>-0.014649</td>\n",
       "      <td>0.032918</td>\n",
       "      <td>-0.006171</td>\n",
       "      <td>-0.025462</td>\n",
       "      <td>0.044849</td>\n",
       "      <td>-0.004036</td>\n",
       "      <td>0.001383</td>\n",
       "    </tr>\n",
       "    <tr>\n",
       "      <th>2009-07-31</th>\n",
       "      <td>1.0</td>\n",
       "      <td>0.031312</td>\n",
       "      <td>0.018595</td>\n",
       "      <td>0.110173</td>\n",
       "      <td>0.100443</td>\n",
       "      <td>0.069218</td>\n",
       "      <td>0.008344</td>\n",
       "      <td>0.105827</td>\n",
       "      <td>0.143274</td>\n",
       "      <td>0.015353</td>\n",
       "      <td>0.000907</td>\n",
       "    </tr>\n",
       "    <tr>\n",
       "      <th>2009-08-31</th>\n",
       "      <td>1.0</td>\n",
       "      <td>0.007192</td>\n",
       "      <td>-0.040800</td>\n",
       "      <td>-0.013572</td>\n",
       "      <td>0.044595</td>\n",
       "      <td>-0.017405</td>\n",
       "      <td>0.007198</td>\n",
       "      <td>0.131503</td>\n",
       "      <td>0.032977</td>\n",
       "      <td>-0.004587</td>\n",
       "      <td>0.007977</td>\n",
       "    </tr>\n",
       "  </tbody>\n",
       "</table>\n",
       "</div>"
      ],
      "text/plain": [
       "            const       BWX       DBC       EEM       EFA       HYG       IEF  \\\n",
       "Date                                                                            \n",
       "2009-04-30    1.0  0.008440 -0.001553  0.155029  0.114637  0.137907 -0.028005   \n",
       "2009-05-31    1.0  0.054144  0.163134  0.159872  0.132390  0.029027 -0.020301   \n",
       "2009-06-30    1.0  0.004549 -0.026858 -0.023094 -0.014649  0.032918 -0.006171   \n",
       "2009-07-31    1.0  0.031312  0.018595  0.110173  0.100443  0.069218  0.008344   \n",
       "2009-08-31    1.0  0.007192 -0.040800 -0.013572  0.044595 -0.017405  0.007198   \n",
       "\n",
       "                 IYR       PSP       QAI       TIP  \n",
       "Date                                                \n",
       "2009-04-30  0.295598  0.229649  0.022329 -0.018504  \n",
       "2009-05-31  0.023199  0.054364  0.028337  0.020438  \n",
       "2009-06-30 -0.025462  0.044849 -0.004036  0.001383  \n",
       "2009-07-31  0.105827  0.143274  0.015353  0.000907  \n",
       "2009-08-31  0.131503  0.032977 -0.004587  0.007977  "
      ]
     },
     "metadata": {},
     "output_type": "display_data"
    },
    {
     "name": "stdout",
     "output_type": "stream",
     "text": [
      "                            OLS Regression Results                            \n",
      "==============================================================================\n",
      "Dep. Variable:                    SPY   R-squared:                       0.879\n",
      "Model:                            OLS   Adj. R-squared:                  0.871\n",
      "Method:                 Least Squares   F-statistic:                     107.0\n",
      "Date:                Fri, 02 Sep 2022   Prob (F-statistic):           2.85e-62\n",
      "Time:                        07:43:08   Log-Likelihood:                 446.62\n",
      "No. Observations:                 158   AIC:                            -871.2\n",
      "Df Residuals:                     147   BIC:                            -837.5\n",
      "Df Model:                          10                                         \n",
      "Covariance Type:            nonrobust                                         \n",
      "==============================================================================\n",
      "                 coef    std err          t      P>|t|      [0.025      0.975]\n",
      "------------------------------------------------------------------------------\n",
      "const          0.0059      0.001      4.599      0.000       0.003       0.008\n",
      "BWX           -0.2041      0.093     -2.192      0.030      -0.388      -0.020\n",
      "DBC           -0.0197      0.034     -0.587      0.558      -0.086       0.047\n",
      "EEM           -0.0613      0.047     -1.293      0.198      -0.155       0.032\n",
      "EFA            0.2088      0.078      2.687      0.008       0.055       0.362\n",
      "HYG           -0.1386      0.097     -1.435      0.154      -0.330       0.052\n",
      "IEF           -0.3158      0.150     -2.099      0.038      -0.613      -0.018\n",
      "IYR            0.1709      0.038      4.473      0.000       0.095       0.246\n",
      "PSP            0.2276      0.056      4.050      0.000       0.117       0.339\n",
      "QAI            1.1932      0.191      6.261      0.000       0.817       1.570\n",
      "TIP            0.0716      0.160      0.446      0.656      -0.245       0.388\n",
      "==============================================================================\n",
      "Omnibus:                        3.442   Durbin-Watson:                   1.918\n",
      "Prob(Omnibus):                  0.179   Jarque-Bera (JB):                3.902\n",
      "Skew:                           0.059   Prob(JB):                        0.142\n",
      "Kurtosis:                       3.761   Cond. No.                         171.\n",
      "==============================================================================\n",
      "\n",
      "Notes:\n",
      "[1] Standard Errors assume that the covariance matrix of the errors is correctly specified.\n"
     ]
    }
   ],
   "source": [
    "## Using scikit-learn\n",
    "\n",
    "y = data[['SPY']]\n",
    "X = data.drop('SPY', axis = 1)\n",
    "ols_model = LinearRegression().fit(X, y)\n",
    "betas = ols_model.coef_\n",
    "\n",
    "## Using statsmodels\n",
    "\n",
    "y = data[['SPY']]\n",
    "X = sm.add_constant(data.drop('SPY', axis = 1))\n",
    "display(X.head())\n",
    "\n",
    "ols_model = sm.OLS(endog = y, exog = X).fit()\n",
    "print(ols_model.summary())"
   ]
  },
  {
   "cell_type": "markdown",
   "id": "0268d713",
   "metadata": {},
   "source": [
    "### Classical Inference"
   ]
  },
  {
   "cell_type": "markdown",
   "id": "fd64382a",
   "metadata": {},
   "source": [
    "#### What is the significance of $\\alpha$? When do you expect $\\alpha = 0$."
   ]
  },
  {
   "cell_type": "markdown",
   "id": "9877e5bf",
   "metadata": {},
   "source": [
    "#### What can you conclude about the t-stat of $\\beta_{DBC}$? What about $\\beta_{EEM}$"
   ]
  },
  {
   "cell_type": "markdown",
   "id": "7e58c54b",
   "metadata": {},
   "source": [
    "##### What can you conclude from the regression $R^2$"
   ]
  },
  {
   "cell_type": "markdown",
   "id": "ec5fd244",
   "metadata": {},
   "source": [
    "#### What can you conclude from the F-statistic of the regression?"
   ]
  },
  {
   "cell_type": "markdown",
   "id": "7fcf2e1e",
   "metadata": {},
   "source": [
    "#### Why are OLS estimates called BLUE?"
   ]
  },
  {
   "cell_type": "markdown",
   "id": "97e22fa0",
   "metadata": {},
   "source": [
    " "
   ]
  },
  {
   "cell_type": "markdown",
   "id": "15dbf70b",
   "metadata": {},
   "source": [
    " "
   ]
  },
  {
   "cell_type": "markdown",
   "id": "a72ebb02",
   "metadata": {},
   "source": [
    " "
   ]
  },
  {
   "cell_type": "markdown",
   "id": "36923ddf",
   "metadata": {},
   "source": [
    "### 2. Assumptions of Classical OLS "
   ]
  },
  {
   "cell_type": "markdown",
   "id": "2758b869",
   "metadata": {},
   "source": [
    "#### 1. No Multicollinearity or Full-Rank of regressors"
   ]
  },
  {
   "cell_type": "markdown",
   "id": "cc48b37c",
   "metadata": {},
   "source": [
    "- Multicollinearity is a situation where there is a very high inter-correlation between the predictor variables in a regression setup\n",
    "\n",
    "- It can make the choosing of the correct set of predictor variables for the model more difficult.\n",
    "\n",
    "- It makes it difficult to interpret the precise effect of each predictor.\n",
    "\n",
    "- Although multicollinearity does not affect the overall fit of the model and the parameter estimates under multicollinearity are still unbiased, these parameter estimates are now inefficient and not BLUE anymore."
   ]
  },
  {
   "cell_type": "markdown",
   "id": "4323b321",
   "metadata": {},
   "source": [
    "**Visual Inspection of Multicollinearity: Correlation Heatmap**"
   ]
  },
  {
   "cell_type": "code",
   "execution_count": 22,
   "id": "89152aec",
   "metadata": {},
   "outputs": [
    {
     "data": {
      "image/png": "[encoded data removed]",
      "text/plain": [
       "<Figure size 432x288 with 2 Axes>"
      ]
     },
     "metadata": {
      "needs_background": "light"
     },
     "output_type": "display_data"
    }
   ],
   "source": [
    "sns.heatmap(X.corr()[1:])\n",
    "plt.show()"
   ]
  },
  {
   "cell_type": "markdown",
   "id": "af92c84d",
   "metadata": {},
   "source": [
    "**Variance Inflation Factor**"
   ]
  },
  {
   "cell_type": "markdown",
   "id": "df92013d",
   "metadata": {},
   "source": [
    "- The Variance Inflation Factor (VIF) measures for how much multicollinearity exists in a regression model. \n",
    "\n",
    "- Essentially, it measures for how much regression coefficients are affected by other independent variables in the model. \n",
    "\n",
    "- Higher values of Variance Inflation Factor (VIF) are associated with multicollinearity. The generally accepted cut-off for VIF is 4, with higher values denoting levels of multicollinearity that could negatively impact the regression model.\n",
    "\n",
    "\n",
    "VIF is calculated as:\n",
    "\n",
    "$$\n",
    "VIF_i = \\frac{1}{1 - R_i^2}\n",
    "$$\n",
    "\n",
    "Where $R_i^2$ is the regression R-squared for $i^{th}$ factor regressed on all other factors:\n",
    "\n",
    "$$\n",
    "x_i = \\alpha + \\beta_1x_1 + \\beta_1x_2 + ... + \\beta_{i-1}x_{i-1} + \\beta_{i+1}x_{i+1} + ... \\beta_{n}x_{n} + \\epsilon\n",
    "$$"
   ]
  },
  {
   "cell_type": "code",
   "execution_count": 43,
   "id": "f7edd39e",
   "metadata": {},
   "outputs": [
    {
     "data": {
      "text/html": [
       "<div>\n",
       "<style scoped>\n",
       "    .dataframe tbody tr th:only-of-type {\n",
       "        vertical-align: middle;\n",
       "    }\n",
       "\n",
       "    .dataframe tbody tr th {\n",
       "        vertical-align: top;\n",
       "    }\n",
       "\n",
       "    .dataframe thead th {\n",
       "        text-align: right;\n",
       "    }\n",
       "</style>\n",
       "<table border=\"1\" class=\"dataframe\">\n",
       "  <thead>\n",
       "    <tr style=\"text-align: right;\">\n",
       "      <th></th>\n",
       "      <th>VIF</th>\n",
       "    </tr>\n",
       "  </thead>\n",
       "  <tbody>\n",
       "    <tr>\n",
       "      <th>const</th>\n",
       "      <td>1.169485</td>\n",
       "    </tr>\n",
       "    <tr>\n",
       "      <th>BWX</th>\n",
       "      <td>3.004313</td>\n",
       "    </tr>\n",
       "    <tr>\n",
       "      <th>DBC</th>\n",
       "      <td>2.187467</td>\n",
       "    </tr>\n",
       "    <tr>\n",
       "      <th>EEM</th>\n",
       "      <td>4.976257</td>\n",
       "    </tr>\n",
       "    <tr>\n",
       "      <th>EFA</th>\n",
       "      <td>9.216706</td>\n",
       "    </tr>\n",
       "    <tr>\n",
       "      <th>HYG</th>\n",
       "      <td>4.089439</td>\n",
       "    </tr>\n",
       "    <tr>\n",
       "      <th>IEF</th>\n",
       "      <td>4.600986</td>\n",
       "    </tr>\n",
       "    <tr>\n",
       "      <th>IYR</th>\n",
       "      <td>2.939911</td>\n",
       "    </tr>\n",
       "    <tr>\n",
       "      <th>PSP</th>\n",
       "      <td>8.883728</td>\n",
       "    </tr>\n",
       "    <tr>\n",
       "      <th>QAI</th>\n",
       "      <td>5.096824</td>\n",
       "    </tr>\n",
       "    <tr>\n",
       "      <th>TIP</th>\n",
       "      <td>3.173086</td>\n",
       "    </tr>\n",
       "  </tbody>\n",
       "</table>\n",
       "</div>"
      ],
      "text/plain": [
       "            VIF\n",
       "const  1.169485\n",
       "BWX    3.004313\n",
       "DBC    2.187467\n",
       "EEM    4.976257\n",
       "EFA    9.216706\n",
       "HYG    4.089439\n",
       "IEF    4.600986\n",
       "IYR    2.939911\n",
       "PSP    8.883728\n",
       "QAI    5.096824\n",
       "TIP    3.173086"
      ]
     },
     "metadata": {},
     "output_type": "display_data"
    }
   ],
   "source": [
    "from statsmodels.stats.outliers_influence import variance_inflation_factor\n",
    "display(pd.DataFrame([variance_inflation_factor(X.values, i) for i in range(X.shape[1])], \\\n",
    "                     index=X.columns, columns=['VIF']))"
   ]
  },
  {
   "cell_type": "markdown",
   "id": "caa68007",
   "metadata": {},
   "source": [
    "Clearly, multicollinearity is a problem in this model"
   ]
  },
  {
   "cell_type": "markdown",
   "id": "63ae92f0",
   "metadata": {},
   "source": [
    "#### 2.  Homoscedasticity of residuals"
   ]
  },
  {
   "cell_type": "markdown",
   "id": "4eb397b2",
   "metadata": {},
   "source": [
    "- Homoskedastic (also spelled \"homoscedastic\") refers to a condition in which the variance of the residual, or error term, in a regression model is constant. \n",
    "\n",
    "- That is, the error term does not vary much as the value of the predictor variable changes."
   ]
  },
  {
   "cell_type": "markdown",
   "id": "fda3c502",
   "metadata": {},
   "source": [
    "**Visual Inspection of Homoscedasticity: Scatterplot for fitted value vs residuals**"
   ]
  },
  {
   "cell_type": "code",
   "execution_count": 42,
   "id": "4758747a",
   "metadata": {},
   "outputs": [
    {
     "data": {
      "image/png": "[encoded data removed]",
      "text/plain": [
       "<Figure size 432x288 with 1 Axes>"
      ]
     },
     "metadata": {
      "needs_background": "light"
     },
     "output_type": "display_data"
    }
   ],
   "source": [
    "residuals = ols_model.resid\n",
    "fitted = ols_model.fittedvalues\n",
    "\n",
    "sns.regplot(x = fitted, y = residuals)\n",
    "plt.show()"
   ]
  },
  {
   "cell_type": "markdown",
   "id": "6f4bb774",
   "metadata": {},
   "source": [
    "To visually inspect heteroscedasticity first, we use a scatter plot between fitted values of the model and the residuals of the model. If heteroscedasticity exists, you will see a cone-shaped pattern in the scatterplot (Variance in residuals will be more on one side i.e. the points will be further away from one another and variance will be less on the other side i.e. the points will be closer to one another.\n",
    "\n",
    "In this case, we see a slight cone-shaped pattern where the variance in residuals is higher when the fitted values are small and the variance in residuals is lower when the fitted values are large. This indicates heteroscedasticity in the sample.\n"
   ]
  },
  {
   "cell_type": "markdown",
   "id": "a22222de",
   "metadata": {},
   "source": [
    "**Breusch–Pagan (BP) test**"
   ]
  },
  {
   "cell_type": "markdown",
   "id": "ef55a1b0",
   "metadata": {},
   "source": [
    "Suppose that we estimate the regression model\n",
    "\n",
    "$$y=\\beta _{0} + \\beta _{1}x + u$$\n",
    "\n",
    "If the assumption is not held to be true, a simple model might be that the variance is linearly related to independent variables. Such a model can be examined by regressing the squared residuals on the independent variables, using an auxiliary regression equation of the form\n",
    "\n",
    "$$\\widehat {u}^{2} = \\gamma _{0} + \\gamma _{1}x + v$$"
   ]
  },
  {
   "cell_type": "markdown",
   "id": "1b1959ac",
   "metadata": {},
   "source": [
    "Hypothesis Statement:\n",
    "\n",
    "$H_0:$ Residual Variances are Constant\n",
    "\n",
    "$H_A:$ Residual Variances are not Constant"
   ]
  },
  {
   "cell_type": "code",
   "execution_count": 44,
   "id": "fcc34ddb",
   "metadata": {},
   "outputs": [
    {
     "name": "stdout",
     "output_type": "stream",
     "text": [
      "BP-test for Heteroskedasticity statistic is 16.4565\n",
      "BP-test for Heteroskedasticity p-value is 8.7290%\n"
     ]
    }
   ],
   "source": [
    "from statsmodels.stats.diagnostic import het_breuschpagan\n",
    "lm, pval, _, _ = het_breuschpagan(residuals,X)\n",
    "print(f'BP-test for Heteroskedasticity statistic is {lm:.4f}')\n",
    "print(f'BP-test for Heteroskedasticity p-value is {pval:.4%}')"
   ]
  },
  {
   "cell_type": "markdown",
   "id": "cfb03bc9",
   "metadata": {},
   "source": [
    "**White's Test**"
   ]
  },
  {
   "cell_type": "markdown",
   "id": "09810f74",
   "metadata": {},
   "source": [
    "White test is a stricter test for Homoscedasticity as it tests for non-linear relationships as well, particularly the quadratic form.\n",
    "\n",
    "$$\n",
    "\\widehat {u}^{2} = \\gamma _{0} + \\gamma_{1}\\hat{y} + \\gamma_{2}\\widehat{y}^{2} + v\n",
    "$$"
   ]
  },
  {
   "cell_type": "markdown",
   "id": "be1786a7",
   "metadata": {},
   "source": [
    "Hypothesis Statement:\n",
    "\n",
    "$H_0:$ Residual Variances are Constant\n",
    "\n",
    "$H_A:$ Residual Variances are not Constant"
   ]
  },
  {
   "cell_type": "code",
   "execution_count": 39,
   "id": "46bcf7fe",
   "metadata": {},
   "outputs": [
    {
     "name": "stdout",
     "output_type": "stream",
     "text": [
      "White-test for Heteroskedasticity statistic is 89.2490\n",
      "White-test for Heteroskedasticity p-value is 2.4703%\n"
     ]
    }
   ],
   "source": [
    "from statsmodels.stats.diagnostic import het_white\n",
    "lm, pval, _, _ = het_white(residuals,X)\n",
    "print(f'White-test for Heteroskedasticity statistic is {lm:.4f}')\n",
    "print(f'White-test for Heteroskedasticity p-value is {pval:.4%}')"
   ]
  },
  {
   "cell_type": "markdown",
   "id": "8a9d2f85",
   "metadata": {},
   "source": [
    "#### 3.  No Autocorrelation of residuals"
   ]
  },
  {
   "cell_type": "markdown",
   "id": "bb95d8c0",
   "metadata": {},
   "source": [
    "Serial correlation (also called Autocorrelation) is where error terms in a time series transfer from one period to another. This leads to:\n",
    "\n",
    "- **Inefficient Ordinary Least Squares Estimates** and any forecast based on those estimates. An efficient estimator gives you the most information about a sample; inefficient estimators can perform well, but require much larger sample sizes to do so.\n",
    "\n",
    "- **Exaggerated goodness of fit** (for a time series with positive serial correlation and an independent variable that grows over time).\n",
    "\n",
    "- **Standard errors that are too small** (for a time series with positive serial correlation and an independent variable that grows over time).\n",
    "\n",
    "- **False positives** for significant regression coefficients. In other words, a regression coefficient appears to be statistically significant when it is not."
   ]
  },
  {
   "cell_type": "markdown",
   "id": "684ec591",
   "metadata": {},
   "source": [
    "**Visual Inspection of Autocorrelation: ACF for residuals**"
   ]
  },
  {
   "cell_type": "code",
   "execution_count": 68,
   "id": "652c215d",
   "metadata": {},
   "outputs": [
    {
     "data": {
      "image/png": "[encoded data removed]",
      "text/plain": [
       "<Figure size 432x288 with 1 Axes>"
      ]
     },
     "metadata": {
      "needs_background": "light"
     },
     "output_type": "display_data"
    }
   ],
   "source": [
    "from statsmodels.graphics.tsaplots import plot_acf\n",
    "plot_acf(residuals, lags = 15, title = 'Autocorrelation')\n",
    "plt.show()"
   ]
  },
  {
   "cell_type": "markdown",
   "id": "2c266d34",
   "metadata": {},
   "source": [
    "**Durbin-Watson (DW) Test**"
   ]
  },
  {
   "cell_type": "markdown",
   "id": "b8530f62",
   "metadata": {},
   "source": [
    "- The Durbin Watson Test is a measure of autocorrelation (also called serial correlation) in residuals from regression analysis.\n",
    "\n",
    "\n",
    "- The Durbin Watson test reports a test statistic, with a value from 0 to 4, where:\n",
    "\n",
    "    * 2 is no autocorrelation.\n",
    "    * 0 to 2 is positive autocorrelation (common in time series data).\n",
    "    * 2 to 4 is negative autocorrelation (less common in time series data).\n"
   ]
  },
  {
   "cell_type": "code",
   "execution_count": 31,
   "id": "a1e8bfb7",
   "metadata": {},
   "outputs": [
    {
     "name": "stdout",
     "output_type": "stream",
     "text": [
      "Durbin Watson Test Statistic: 1.92\n"
     ]
    }
   ],
   "source": [
    "from statsmodels.stats.stattools import durbin_watson\n",
    "\n",
    "#perform Durbin-Watson test\n",
    "dw_stats = durbin_watson(residuals)\n",
    "\n",
    "print('Durbin Watson Test Statistic: {:,.2f}'.format(dw_stats))"
   ]
  },
  {
   "cell_type": "markdown",
   "id": "ee512231",
   "metadata": {},
   "source": [
    "#### 4.  Normality of residuals"
   ]
  },
  {
   "cell_type": "markdown",
   "id": "92ff2ef2",
   "metadata": {},
   "source": [
    "- Normality is the assumption that the underlying residuals are normally distributed, or approximately so.\n",
    "\n",
    "\n",
    "- Violation of the normality assumption only becomes an issue with small sample sizes. F-test and t-test which are required for classical inference assume normality of errors\n",
    "\n",
    "\n",
    "- For large sample sizes, the assumption is less important due to the central limit theorem, and the fact that the F- and t-tests used for hypothesis tests and forming confidence intervals are quite robust to modest departures from normality."
   ]
  },
  {
   "cell_type": "markdown",
   "id": "7bd995a0",
   "metadata": {},
   "source": [
    "**Visual Inspection of Normality: Density Plots and Q-Q plots**"
   ]
  },
  {
   "cell_type": "code",
   "execution_count": 75,
   "id": "f4350e83",
   "metadata": {},
   "outputs": [
    {
     "data": {
      "image/png": "[encoded data removed]",
      "text/plain": [
       "<Figure size 432x288 with 1 Axes>"
      ]
     },
     "metadata": {
      "needs_background": "light"
     },
     "output_type": "display_data"
    }
   ],
   "source": [
    "from statsmodels.graphics.gofplots import qqplot\n",
    "qqplot(residuals, line = \"s\")\n",
    "plt.show()"
   ]
  },
  {
   "cell_type": "code",
   "execution_count": 70,
   "id": "35475d64",
   "metadata": {},
   "outputs": [
    {
     "data": {
      "image/png": "[encoded data removed]",
      "text/plain": [
       "<Figure size 432x288 with 1 Axes>"
      ]
     },
     "metadata": {
      "needs_background": "light"
     },
     "output_type": "display_data"
    }
   ],
   "source": [
    "sns.kdeplot(residuals)\n",
    "plt.show()"
   ]
  },
  {
   "cell_type": "markdown",
   "id": "6b49e3b6",
   "metadata": {},
   "source": [
    "**KS Test** "
   ]
  },
  {
   "cell_type": "code",
   "execution_count": 76,
   "id": "e9e9f5bf",
   "metadata": {},
   "outputs": [],
   "source": [
    "from statsmodels.stats.diagnostic import kstest_normal"
   ]
  },
  {
   "cell_type": "code",
   "execution_count": 77,
   "id": "da61a42b",
   "metadata": {},
   "outputs": [
    {
     "name": "stdout",
     "output_type": "stream",
     "text": [
      "KS-test for normality statistic is 0.0400\n",
      "KS-test for normality p-value is 82.8209%\n"
     ]
    }
   ],
   "source": [
    "lm, pval = kstest_normal(residuals)\n",
    "print(f'KS-test for normality statistic is {lm:.4f}')\n",
    "print(f'KS-test for normality p-value is {pval:.4%}')"
   ]
  },
  {
   "cell_type": "markdown",
   "id": "391d52d1",
   "metadata": {},
   "source": [
    "**Other tests for normality**"
   ]
  },
  {
   "cell_type": "code",
   "execution_count": 78,
   "id": "7d92e547",
   "metadata": {},
   "outputs": [
    {
     "name": "stdout",
     "output_type": "stream",
     "text": [
      "JB-test for normality statistic is 3.9018\n",
      "JB-test for normality p-value is 14.2149%\n"
     ]
    }
   ],
   "source": [
    "## Jarque Bera Test\n",
    "lm, p_val, _, _ = jarque_bera(residuals)\n",
    "print(f'JB-test for normality statistic is {lm:.4f}')\n",
    "print(f'JB-test for normality p-value is {p_val:.4%}')"
   ]
  },
  {
   "cell_type": "code",
   "execution_count": 79,
   "id": "308f4829",
   "metadata": {},
   "outputs": [
    {
     "name": "stdout",
     "output_type": "stream",
     "text": [
      "AD-test for normality statistic is 0.4842\n",
      "AD-test for normality p-value is 22.5220%\n"
     ]
    }
   ],
   "source": [
    "## Anderson-Darling Test\n",
    "\n",
    "lm, pval = normal_ad(residuals)\n",
    "print(f'AD-test for normality statistic is {lm:.4f}')\n",
    "print(f'AD-test for normality p-value is {pval:.4%}')"
   ]
  },
  {
   "cell_type": "markdown",
   "id": "a3e95c92",
   "metadata": {},
   "source": [
    "## Practice Questions for Interview"
   ]
  },
  {
   "cell_type": "markdown",
   "id": "ef03a891",
   "metadata": {},
   "source": [
    "#### 1. Suppose you run the following two regressions: \n",
    "\n",
    "$$y = \\beta_1 x_1 + \\epsilon_1$$ \n",
    "\n",
    "$$y = \\hat{\\beta_1}x_1 + \\hat{\\beta_2} x_2 + \\epsilon_2$$\n",
    "\n",
    "  When does $\\beta_1 = \\hat{\\beta_1}$?"
   ]
  },
  {
   "cell_type": "markdown",
   "id": "3d36f21a",
   "metadata": {},
   "source": [
    "#### 2. Suppose you increase the sample size of your data by exact replication (You append a copy of the original data). Which of the following quantities you expect to change: i) model coefficients ( $\\beta$ ), ii) model R-squared, iii) coefficient t-stats?"
   ]
  },
  {
   "cell_type": "markdown",
   "id": "4a4c9d8d",
   "metadata": {},
   "source": [
    "#### 3. Can R-squared meteric be negative? What about Adjusted R-Squared?"
   ]
  },
  {
   "cell_type": "markdown",
   "id": "5be12205",
   "metadata": {},
   "source": [
    "#### 4. When are OLS estimators called BLUE?"
   ]
  },
  {
   "cell_type": "markdown",
   "id": "464a4b7e",
   "metadata": {},
   "source": [
    "#### 5. Consider the following linear models:\n",
    "\n",
    "$$\n",
    "y_1 = \\beta_1 x_1 + \\epsilon\n",
    "$$\n",
    "\n",
    "$$\n",
    "y_2 = \\gamma_1 z_1 + \\gamma_2 z_2 + \\mu\n",
    "$$\n",
    "\n",
    "The model for $y_1$ has an $R^2 = 64\\%$ and the model for $y_2$ has an $R^2 = 81\\%$. What can you say about the following?\n",
    "\n",
    "- Relationship between $y_1$ and $x_1$\n",
    "\n",
    "\n",
    "- Relationship between $y_2$ and $z_1$\n",
    "\n",
    "\n",
    "- Relationship between $y_2$ and $z_2$\n",
    "\n",
    "\n",
    "- Relationship between $y_2$ and $\\hat{y_2}$"
   ]
  }
 ],
 "metadata": {
  "kernelspec": {
   "display_name": "Python 3 (ipykernel)",
   "language": "python",
   "name": "python3"
  },
  "language_info": {
   "codemirror_mode": {
    "name": "ipython",
    "version": 3
   },
   "file_extension": ".py",
   "mimetype": "text/x-python",
   "name": "python",
   "nbconvert_exporter": "python",
   "pygments_lexer": "ipython3",
   "version": "3.8.8"
  }
 },
 "nbformat": 4,
 "nbformat_minor": 5
}
