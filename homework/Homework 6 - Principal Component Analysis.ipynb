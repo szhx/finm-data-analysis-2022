{
 "cells": [
  {
   "cell_type": "markdown",
   "id": "d1570348",
   "metadata": {},
   "source": [
    "# Homework 6\n",
    "## Data Analysis\n",
    "### FINM August Review \n",
    "\n",
    "Mark Hendricks\n",
    "\n",
    "hendricks@uchicago.edu"
   ]
  },
  {
   "cell_type": "markdown",
   "id": "9fb03cf3",
   "metadata": {},
   "source": [
    "#### Data\n",
    "\n",
    "- This homework uses the file, *“single_name_return_data.xlsx”*.\n",
    "- Find the data in the Github repo associated with the module, (link on Canvas.)\n",
    "\n",
    "The data file contains...\n",
    "- Return rates, $r^{mkt}_t$, for the SPY ETF on the S&P 500.\n",
    "- Return rates, $r^f_t$, for short-term treasury bonds (SHV), a proxy for the risk-free rate.\n",
    "- Return rates, $r^i_t$, for 22 single-name equities.\n",
    "\n",
    "Another tab gives these all as excess returns, $\\tilde{r}$, which simply subtracts $r^f$ from everything. We focus on the estimations using the total returns, but you could easily do it all with the excess returns if preferred."
   ]
  },
  {
   "cell_type": "markdown",
   "id": "e056905b",
   "metadata": {},
   "source": [
    "## 1 Principal Components"
   ]
  },
  {
   "cell_type": "markdown",
   "id": "3aeb8658",
   "metadata": {},
   "source": [
    "Use the single-name equity data from the data set mentioned above. (That is, leave out SPY and SHV.)\n",
    "\n",
    "1. Calculate the principal components of the return series.\n",
    "\n",
    "\n",
    "2. Report the eigenvalues associated with these principal components. Report each eigenvalue as a percentage of the sum of all the eigenvalues. This is the total variation each PCA explains.\n",
    "\n",
    "\n",
    "3. How many PCs are needed to explain 75% of the variation?\n",
    "\n",
    "\n",
    "4. Calculate the correlation between the first (largest eigenvalue) principal component with each of the 22 single-name equities. Which correlation is highest?\n",
    "\n",
    "\n",
    "5. Calculate the correlation between the SPY and the first, second, third principal components."
   ]
  },
  {
   "cell_type": "markdown",
   "id": "10d5e86b",
   "metadata": {},
   "source": [
    "## 2 PCR and PLS"
   ]
  },
  {
   "cell_type": "markdown",
   "id": "4e2bb460",
   "metadata": {},
   "source": [
    "\n",
    "\n",
    "1. Principal Component Regression (PCR) refers to using PCA for dimension reduction, and then utilizing the principal components in a regression. Try this by regressing SPY on the first 3 PCs calculated in the previous section. Report the r-squared.\n",
    "\n",
    "\n",
    "2. Calculate the Partial Least Squares estimation of SPY on the 22 single-name equities. Model it for 3 factors. Report the r-squared.\n",
    "\n",
    "\n",
    "3. Compare the results between these two approaches and against penalized regression seen in the past homework."
   ]
  }
 ],
 "metadata": {
  "kernelspec": {
   "display_name": "Python 3 (ipykernel)",
   "language": "python",
   "name": "python3"
  },
  "language_info": {
   "codemirror_mode": {
    "name": "ipython",
    "version": 3
   },
   "file_extension": ".py",
   "mimetype": "text/x-python",
   "name": "python",
   "nbconvert_exporter": "python",
   "pygments_lexer": "ipython3",
   "version": "3.8.8"
  }
 },
 "nbformat": 4,
 "nbformat_minor": 5
}
